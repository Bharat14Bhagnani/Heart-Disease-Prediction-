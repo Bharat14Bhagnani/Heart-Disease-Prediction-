{
 "cells": [
  {
   "cell_type": "markdown",
   "metadata": {
    "_uuid": "bbd660b62cc616efa33651beedc49b86045b784d"
   },
   "source": [
    "##  <strong>Heart Disease Prediction\n",
    " "
   ]
  },
  {
   "cell_type": "markdown",
   "metadata": {
    "_uuid": "e41ea25bec5928203cec544d0413fecd4b4e5555"
   },
   "source": [
    "## I. Importing libraries"
   ]
  },
  {
   "cell_type": "code",
   "execution_count": 1,
   "metadata": {
    "_uuid": "f571f7e57c828d45fe55f6136fe8c2e796f74d4e"
   },
   "outputs": [
    {
     "name": "stdout",
     "output_type": "stream",
     "text": [
      "['.ipynb_checkpoints', 'heart.csv', 'Heart_disease_prediction.ipynb', 'README.md']\n"
     ]
    }
   ],
   "source": [
    "import numpy as np\n",
    "import pandas as pd\n",
    "import matplotlib.pyplot as plt\n",
    "import seaborn as sns\n",
    "\n",
    "%matplotlib inline\n",
    "\n",
    "import os\n",
    "print(os.listdir())\n",
    "\n",
    "import warnings\n",
    "warnings.filterwarnings('ignore')"
   ]
  },
  {
   "cell_type": "markdown",
   "metadata": {
    "_uuid": "44e71221837f6fa60edc2c83b7492ddb019cc1cd"
   },
   "source": [
    "## II. Importing and understanding our dataset "
   ]
  },
  {
   "cell_type": "code",
   "execution_count": 2,
   "metadata": {
    "_uuid": "2a1a1dae64ae3c934849b2b918bc7d68cd59e3f6"
   },
   "outputs": [],
   "source": [
    "dataset = pd.read_csv(\"heart.csv\")"
   ]
  },
  {
   "cell_type": "markdown",
   "metadata": {
    "_uuid": "481fa1d160a3256ef2470535bfb0574820fbaabd"
   },
   "source": [
    "#### Verifying it as a 'dataframe' object in pandas"
   ]
  },
  {
   "cell_type": "code",
   "execution_count": 3,
   "metadata": {
    "_uuid": "86353d54a331dbf55a63874402cf13e2a72c3750"
   },
   "outputs": [
    {
     "data": {
      "text/plain": [
       "pandas.core.frame.DataFrame"
      ]
     },
     "execution_count": 3,
     "metadata": {},
     "output_type": "execute_result"
    }
   ],
   "source": [
    "type(dataset)"
   ]
  },
  {
   "cell_type": "markdown",
   "metadata": {
    "_uuid": "44649a50ce58d2e10a032f7d0e7ecf435e932481"
   },
   "source": [
    "#### Shape of dataset"
   ]
  },
  {
   "cell_type": "code",
   "execution_count": 4,
   "metadata": {
    "_uuid": "0a2396061d262bee451e61dd51be84d0bd1ac9d0"
   },
   "outputs": [
    {
     "data": {
      "text/plain": [
       "(303, 14)"
      ]
     },
     "execution_count": 4,
     "metadata": {},
     "output_type": "execute_result"
    }
   ],
   "source": [
    "dataset.shape"
   ]
  },
  {
   "cell_type": "markdown",
   "metadata": {
    "_uuid": "3e1de0c39fc28f086a5e8377cc5fbdbf91d377b3"
   },
   "source": [
    "#### Printing out a few columns"
   ]
  },
  {
   "cell_type": "code",
   "execution_count": 5,
   "metadata": {
    "_uuid": "87ebcc578e5959fe9a9c9a538c73122183454459"
   },
   "outputs": [
    {
     "data": {
      "text/html": [
       "<div>\n",
       "<style scoped>\n",
       "    .dataframe tbody tr th:only-of-type {\n",
       "        vertical-align: middle;\n",
       "    }\n",
       "\n",
       "    .dataframe tbody tr th {\n",
       "        vertical-align: top;\n",
       "    }\n",
       "\n",
       "    .dataframe thead th {\n",
       "        text-align: right;\n",
       "    }\n",
       "</style>\n",
       "<table border=\"1\" class=\"dataframe\">\n",
       "  <thead>\n",
       "    <tr style=\"text-align: right;\">\n",
       "      <th></th>\n",
       "      <th>age</th>\n",
       "      <th>sex</th>\n",
       "      <th>cp</th>\n",
       "      <th>trestbps</th>\n",
       "      <th>chol</th>\n",
       "      <th>fbs</th>\n",
       "      <th>restecg</th>\n",
       "      <th>thalach</th>\n",
       "      <th>exang</th>\n",
       "      <th>oldpeak</th>\n",
       "      <th>slope</th>\n",
       "      <th>ca</th>\n",
       "      <th>thal</th>\n",
       "      <th>target</th>\n",
       "    </tr>\n",
       "  </thead>\n",
       "  <tbody>\n",
       "    <tr>\n",
       "      <th>0</th>\n",
       "      <td>63</td>\n",
       "      <td>1</td>\n",
       "      <td>3</td>\n",
       "      <td>145</td>\n",
       "      <td>233</td>\n",
       "      <td>1</td>\n",
       "      <td>0</td>\n",
       "      <td>150</td>\n",
       "      <td>0</td>\n",
       "      <td>2.3</td>\n",
       "      <td>0</td>\n",
       "      <td>0</td>\n",
       "      <td>1</td>\n",
       "      <td>1</td>\n",
       "    </tr>\n",
       "    <tr>\n",
       "      <th>1</th>\n",
       "      <td>37</td>\n",
       "      <td>1</td>\n",
       "      <td>2</td>\n",
       "      <td>130</td>\n",
       "      <td>250</td>\n",
       "      <td>0</td>\n",
       "      <td>1</td>\n",
       "      <td>187</td>\n",
       "      <td>0</td>\n",
       "      <td>3.5</td>\n",
       "      <td>0</td>\n",
       "      <td>0</td>\n",
       "      <td>2</td>\n",
       "      <td>1</td>\n",
       "    </tr>\n",
       "    <tr>\n",
       "      <th>2</th>\n",
       "      <td>41</td>\n",
       "      <td>0</td>\n",
       "      <td>1</td>\n",
       "      <td>130</td>\n",
       "      <td>204</td>\n",
       "      <td>0</td>\n",
       "      <td>0</td>\n",
       "      <td>172</td>\n",
       "      <td>0</td>\n",
       "      <td>1.4</td>\n",
       "      <td>2</td>\n",
       "      <td>0</td>\n",
       "      <td>2</td>\n",
       "      <td>1</td>\n",
       "    </tr>\n",
       "    <tr>\n",
       "      <th>3</th>\n",
       "      <td>56</td>\n",
       "      <td>1</td>\n",
       "      <td>1</td>\n",
       "      <td>120</td>\n",
       "      <td>236</td>\n",
       "      <td>0</td>\n",
       "      <td>1</td>\n",
       "      <td>178</td>\n",
       "      <td>0</td>\n",
       "      <td>0.8</td>\n",
       "      <td>2</td>\n",
       "      <td>0</td>\n",
       "      <td>2</td>\n",
       "      <td>1</td>\n",
       "    </tr>\n",
       "    <tr>\n",
       "      <th>4</th>\n",
       "      <td>57</td>\n",
       "      <td>0</td>\n",
       "      <td>0</td>\n",
       "      <td>120</td>\n",
       "      <td>354</td>\n",
       "      <td>0</td>\n",
       "      <td>1</td>\n",
       "      <td>163</td>\n",
       "      <td>1</td>\n",
       "      <td>0.6</td>\n",
       "      <td>2</td>\n",
       "      <td>0</td>\n",
       "      <td>2</td>\n",
       "      <td>1</td>\n",
       "    </tr>\n",
       "  </tbody>\n",
       "</table>\n",
       "</div>"
      ],
      "text/plain": [
       "   age  sex  cp  trestbps  chol  fbs  restecg  thalach  exang  oldpeak  slope  \\\n",
       "0   63    1   3       145   233    1        0      150      0      2.3      0   \n",
       "1   37    1   2       130   250    0        1      187      0      3.5      0   \n",
       "2   41    0   1       130   204    0        0      172      0      1.4      2   \n",
       "3   56    1   1       120   236    0        1      178      0      0.8      2   \n",
       "4   57    0   0       120   354    0        1      163      1      0.6      2   \n",
       "\n",
       "   ca  thal  target  \n",
       "0   0     1       1  \n",
       "1   0     2       1  \n",
       "2   0     2       1  \n",
       "3   0     2       1  \n",
       "4   0     2       1  "
      ]
     },
     "execution_count": 5,
     "metadata": {},
     "output_type": "execute_result"
    }
   ],
   "source": [
    "dataset.head(5)"
   ]
  },
  {
   "cell_type": "code",
   "execution_count": 6,
   "metadata": {
    "_uuid": "5132eb43114bf99d5f857f459d0c9d2faffc9644"
   },
   "outputs": [
    {
     "data": {
      "text/html": [
       "<div>\n",
       "<style scoped>\n",
       "    .dataframe tbody tr th:only-of-type {\n",
       "        vertical-align: middle;\n",
       "    }\n",
       "\n",
       "    .dataframe tbody tr th {\n",
       "        vertical-align: top;\n",
       "    }\n",
       "\n",
       "    .dataframe thead th {\n",
       "        text-align: right;\n",
       "    }\n",
       "</style>\n",
       "<table border=\"1\" class=\"dataframe\">\n",
       "  <thead>\n",
       "    <tr style=\"text-align: right;\">\n",
       "      <th></th>\n",
       "      <th>age</th>\n",
       "      <th>sex</th>\n",
       "      <th>cp</th>\n",
       "      <th>trestbps</th>\n",
       "      <th>chol</th>\n",
       "      <th>fbs</th>\n",
       "      <th>restecg</th>\n",
       "      <th>thalach</th>\n",
       "      <th>exang</th>\n",
       "      <th>oldpeak</th>\n",
       "      <th>slope</th>\n",
       "      <th>ca</th>\n",
       "      <th>thal</th>\n",
       "      <th>target</th>\n",
       "    </tr>\n",
       "  </thead>\n",
       "  <tbody>\n",
       "    <tr>\n",
       "      <th>257</th>\n",
       "      <td>50</td>\n",
       "      <td>1</td>\n",
       "      <td>0</td>\n",
       "      <td>144</td>\n",
       "      <td>200</td>\n",
       "      <td>0</td>\n",
       "      <td>0</td>\n",
       "      <td>126</td>\n",
       "      <td>1</td>\n",
       "      <td>0.9</td>\n",
       "      <td>1</td>\n",
       "      <td>0</td>\n",
       "      <td>3</td>\n",
       "      <td>0</td>\n",
       "    </tr>\n",
       "    <tr>\n",
       "      <th>255</th>\n",
       "      <td>45</td>\n",
       "      <td>1</td>\n",
       "      <td>0</td>\n",
       "      <td>142</td>\n",
       "      <td>309</td>\n",
       "      <td>0</td>\n",
       "      <td>0</td>\n",
       "      <td>147</td>\n",
       "      <td>1</td>\n",
       "      <td>0.0</td>\n",
       "      <td>1</td>\n",
       "      <td>3</td>\n",
       "      <td>3</td>\n",
       "      <td>0</td>\n",
       "    </tr>\n",
       "    <tr>\n",
       "      <th>50</th>\n",
       "      <td>51</td>\n",
       "      <td>0</td>\n",
       "      <td>2</td>\n",
       "      <td>130</td>\n",
       "      <td>256</td>\n",
       "      <td>0</td>\n",
       "      <td>0</td>\n",
       "      <td>149</td>\n",
       "      <td>0</td>\n",
       "      <td>0.5</td>\n",
       "      <td>2</td>\n",
       "      <td>0</td>\n",
       "      <td>2</td>\n",
       "      <td>1</td>\n",
       "    </tr>\n",
       "    <tr>\n",
       "      <th>167</th>\n",
       "      <td>62</td>\n",
       "      <td>0</td>\n",
       "      <td>0</td>\n",
       "      <td>140</td>\n",
       "      <td>268</td>\n",
       "      <td>0</td>\n",
       "      <td>0</td>\n",
       "      <td>160</td>\n",
       "      <td>0</td>\n",
       "      <td>3.6</td>\n",
       "      <td>0</td>\n",
       "      <td>2</td>\n",
       "      <td>2</td>\n",
       "      <td>0</td>\n",
       "    </tr>\n",
       "    <tr>\n",
       "      <th>231</th>\n",
       "      <td>57</td>\n",
       "      <td>1</td>\n",
       "      <td>0</td>\n",
       "      <td>165</td>\n",
       "      <td>289</td>\n",
       "      <td>1</td>\n",
       "      <td>0</td>\n",
       "      <td>124</td>\n",
       "      <td>0</td>\n",
       "      <td>1.0</td>\n",
       "      <td>1</td>\n",
       "      <td>3</td>\n",
       "      <td>3</td>\n",
       "      <td>0</td>\n",
       "    </tr>\n",
       "  </tbody>\n",
       "</table>\n",
       "</div>"
      ],
      "text/plain": [
       "     age  sex  cp  trestbps  chol  fbs  restecg  thalach  exang  oldpeak  \\\n",
       "257   50    1   0       144   200    0        0      126      1      0.9   \n",
       "255   45    1   0       142   309    0        0      147      1      0.0   \n",
       "50    51    0   2       130   256    0        0      149      0      0.5   \n",
       "167   62    0   0       140   268    0        0      160      0      3.6   \n",
       "231   57    1   0       165   289    1        0      124      0      1.0   \n",
       "\n",
       "     slope  ca  thal  target  \n",
       "257      1   0     3       0  \n",
       "255      1   3     3       0  \n",
       "50       2   0     2       1  \n",
       "167      0   2     2       0  \n",
       "231      1   3     3       0  "
      ]
     },
     "execution_count": 6,
     "metadata": {},
     "output_type": "execute_result"
    }
   ],
   "source": [
    "dataset.sample(5)"
   ]
  },
  {
   "cell_type": "markdown",
   "metadata": {
    "_uuid": "1113236bec2848d33c5bfe088ff0d03246b8b7ce"
   },
   "source": [
    "#### Description"
   ]
  },
  {
   "cell_type": "code",
   "execution_count": 7,
   "metadata": {
    "_uuid": "c31619815cb0dae5586985671fdc21110b39a821"
   },
   "outputs": [
    {
     "data": {
      "text/html": [
       "<div>\n",
       "<style scoped>\n",
       "    .dataframe tbody tr th:only-of-type {\n",
       "        vertical-align: middle;\n",
       "    }\n",
       "\n",
       "    .dataframe tbody tr th {\n",
       "        vertical-align: top;\n",
       "    }\n",
       "\n",
       "    .dataframe thead th {\n",
       "        text-align: right;\n",
       "    }\n",
       "</style>\n",
       "<table border=\"1\" class=\"dataframe\">\n",
       "  <thead>\n",
       "    <tr style=\"text-align: right;\">\n",
       "      <th></th>\n",
       "      <th>age</th>\n",
       "      <th>sex</th>\n",
       "      <th>cp</th>\n",
       "      <th>trestbps</th>\n",
       "      <th>chol</th>\n",
       "      <th>fbs</th>\n",
       "      <th>restecg</th>\n",
       "      <th>thalach</th>\n",
       "      <th>exang</th>\n",
       "      <th>oldpeak</th>\n",
       "      <th>slope</th>\n",
       "      <th>ca</th>\n",
       "      <th>thal</th>\n",
       "      <th>target</th>\n",
       "    </tr>\n",
       "  </thead>\n",
       "  <tbody>\n",
       "    <tr>\n",
       "      <th>count</th>\n",
       "      <td>303.000000</td>\n",
       "      <td>303.000000</td>\n",
       "      <td>303.000000</td>\n",
       "      <td>303.000000</td>\n",
       "      <td>303.000000</td>\n",
       "      <td>303.000000</td>\n",
       "      <td>303.000000</td>\n",
       "      <td>303.000000</td>\n",
       "      <td>303.000000</td>\n",
       "      <td>303.000000</td>\n",
       "      <td>303.000000</td>\n",
       "      <td>303.000000</td>\n",
       "      <td>303.000000</td>\n",
       "      <td>303.000000</td>\n",
       "    </tr>\n",
       "    <tr>\n",
       "      <th>mean</th>\n",
       "      <td>54.366337</td>\n",
       "      <td>0.683168</td>\n",
       "      <td>0.966997</td>\n",
       "      <td>131.623762</td>\n",
       "      <td>246.264026</td>\n",
       "      <td>0.148515</td>\n",
       "      <td>0.528053</td>\n",
       "      <td>149.646865</td>\n",
       "      <td>0.326733</td>\n",
       "      <td>1.039604</td>\n",
       "      <td>1.399340</td>\n",
       "      <td>0.729373</td>\n",
       "      <td>2.313531</td>\n",
       "      <td>0.544554</td>\n",
       "    </tr>\n",
       "    <tr>\n",
       "      <th>std</th>\n",
       "      <td>9.082101</td>\n",
       "      <td>0.466011</td>\n",
       "      <td>1.032052</td>\n",
       "      <td>17.538143</td>\n",
       "      <td>51.830751</td>\n",
       "      <td>0.356198</td>\n",
       "      <td>0.525860</td>\n",
       "      <td>22.905161</td>\n",
       "      <td>0.469794</td>\n",
       "      <td>1.161075</td>\n",
       "      <td>0.616226</td>\n",
       "      <td>1.022606</td>\n",
       "      <td>0.612277</td>\n",
       "      <td>0.498835</td>\n",
       "    </tr>\n",
       "    <tr>\n",
       "      <th>min</th>\n",
       "      <td>29.000000</td>\n",
       "      <td>0.000000</td>\n",
       "      <td>0.000000</td>\n",
       "      <td>94.000000</td>\n",
       "      <td>126.000000</td>\n",
       "      <td>0.000000</td>\n",
       "      <td>0.000000</td>\n",
       "      <td>71.000000</td>\n",
       "      <td>0.000000</td>\n",
       "      <td>0.000000</td>\n",
       "      <td>0.000000</td>\n",
       "      <td>0.000000</td>\n",
       "      <td>0.000000</td>\n",
       "      <td>0.000000</td>\n",
       "    </tr>\n",
       "    <tr>\n",
       "      <th>25%</th>\n",
       "      <td>47.500000</td>\n",
       "      <td>0.000000</td>\n",
       "      <td>0.000000</td>\n",
       "      <td>120.000000</td>\n",
       "      <td>211.000000</td>\n",
       "      <td>0.000000</td>\n",
       "      <td>0.000000</td>\n",
       "      <td>133.500000</td>\n",
       "      <td>0.000000</td>\n",
       "      <td>0.000000</td>\n",
       "      <td>1.000000</td>\n",
       "      <td>0.000000</td>\n",
       "      <td>2.000000</td>\n",
       "      <td>0.000000</td>\n",
       "    </tr>\n",
       "    <tr>\n",
       "      <th>50%</th>\n",
       "      <td>55.000000</td>\n",
       "      <td>1.000000</td>\n",
       "      <td>1.000000</td>\n",
       "      <td>130.000000</td>\n",
       "      <td>240.000000</td>\n",
       "      <td>0.000000</td>\n",
       "      <td>1.000000</td>\n",
       "      <td>153.000000</td>\n",
       "      <td>0.000000</td>\n",
       "      <td>0.800000</td>\n",
       "      <td>1.000000</td>\n",
       "      <td>0.000000</td>\n",
       "      <td>2.000000</td>\n",
       "      <td>1.000000</td>\n",
       "    </tr>\n",
       "    <tr>\n",
       "      <th>75%</th>\n",
       "      <td>61.000000</td>\n",
       "      <td>1.000000</td>\n",
       "      <td>2.000000</td>\n",
       "      <td>140.000000</td>\n",
       "      <td>274.500000</td>\n",
       "      <td>0.000000</td>\n",
       "      <td>1.000000</td>\n",
       "      <td>166.000000</td>\n",
       "      <td>1.000000</td>\n",
       "      <td>1.600000</td>\n",
       "      <td>2.000000</td>\n",
       "      <td>1.000000</td>\n",
       "      <td>3.000000</td>\n",
       "      <td>1.000000</td>\n",
       "    </tr>\n",
       "    <tr>\n",
       "      <th>max</th>\n",
       "      <td>77.000000</td>\n",
       "      <td>1.000000</td>\n",
       "      <td>3.000000</td>\n",
       "      <td>200.000000</td>\n",
       "      <td>564.000000</td>\n",
       "      <td>1.000000</td>\n",
       "      <td>2.000000</td>\n",
       "      <td>202.000000</td>\n",
       "      <td>1.000000</td>\n",
       "      <td>6.200000</td>\n",
       "      <td>2.000000</td>\n",
       "      <td>4.000000</td>\n",
       "      <td>3.000000</td>\n",
       "      <td>1.000000</td>\n",
       "    </tr>\n",
       "  </tbody>\n",
       "</table>\n",
       "</div>"
      ],
      "text/plain": [
       "              age         sex          cp    trestbps        chol         fbs  \\\n",
       "count  303.000000  303.000000  303.000000  303.000000  303.000000  303.000000   \n",
       "mean    54.366337    0.683168    0.966997  131.623762  246.264026    0.148515   \n",
       "std      9.082101    0.466011    1.032052   17.538143   51.830751    0.356198   \n",
       "min     29.000000    0.000000    0.000000   94.000000  126.000000    0.000000   \n",
       "25%     47.500000    0.000000    0.000000  120.000000  211.000000    0.000000   \n",
       "50%     55.000000    1.000000    1.000000  130.000000  240.000000    0.000000   \n",
       "75%     61.000000    1.000000    2.000000  140.000000  274.500000    0.000000   \n",
       "max     77.000000    1.000000    3.000000  200.000000  564.000000    1.000000   \n",
       "\n",
       "          restecg     thalach       exang     oldpeak       slope          ca  \\\n",
       "count  303.000000  303.000000  303.000000  303.000000  303.000000  303.000000   \n",
       "mean     0.528053  149.646865    0.326733    1.039604    1.399340    0.729373   \n",
       "std      0.525860   22.905161    0.469794    1.161075    0.616226    1.022606   \n",
       "min      0.000000   71.000000    0.000000    0.000000    0.000000    0.000000   \n",
       "25%      0.000000  133.500000    0.000000    0.000000    1.000000    0.000000   \n",
       "50%      1.000000  153.000000    0.000000    0.800000    1.000000    0.000000   \n",
       "75%      1.000000  166.000000    1.000000    1.600000    2.000000    1.000000   \n",
       "max      2.000000  202.000000    1.000000    6.200000    2.000000    4.000000   \n",
       "\n",
       "             thal      target  \n",
       "count  303.000000  303.000000  \n",
       "mean     2.313531    0.544554  \n",
       "std      0.612277    0.498835  \n",
       "min      0.000000    0.000000  \n",
       "25%      2.000000    0.000000  \n",
       "50%      2.000000    1.000000  \n",
       "75%      3.000000    1.000000  \n",
       "max      3.000000    1.000000  "
      ]
     },
     "execution_count": 7,
     "metadata": {},
     "output_type": "execute_result"
    }
   ],
   "source": [
    "dataset.describe()"
   ]
  },
  {
   "cell_type": "code",
   "execution_count": 8,
   "metadata": {
    "_uuid": "718b82039841c137ab7e08a6e79e264643134642"
   },
   "outputs": [
    {
     "name": "stdout",
     "output_type": "stream",
     "text": [
      "<class 'pandas.core.frame.DataFrame'>\n",
      "RangeIndex: 303 entries, 0 to 302\n",
      "Data columns (total 14 columns):\n",
      " #   Column    Non-Null Count  Dtype  \n",
      "---  ------    --------------  -----  \n",
      " 0   age       303 non-null    int64  \n",
      " 1   sex       303 non-null    int64  \n",
      " 2   cp        303 non-null    int64  \n",
      " 3   trestbps  303 non-null    int64  \n",
      " 4   chol      303 non-null    int64  \n",
      " 5   fbs       303 non-null    int64  \n",
      " 6   restecg   303 non-null    int64  \n",
      " 7   thalach   303 non-null    int64  \n",
      " 8   exang     303 non-null    int64  \n",
      " 9   oldpeak   303 non-null    float64\n",
      " 10  slope     303 non-null    int64  \n",
      " 11  ca        303 non-null    int64  \n",
      " 12  thal      303 non-null    int64  \n",
      " 13  target    303 non-null    int64  \n",
      "dtypes: float64(1), int64(13)\n",
      "memory usage: 33.3 KB\n"
     ]
    }
   ],
   "source": [
    "dataset.info()"
   ]
  },
  {
   "cell_type": "code",
   "execution_count": 9,
   "metadata": {
    "_uuid": "99d7182ca186d37f63b1fc433fe74ad5e2bc7d2f"
   },
   "outputs": [],
   "source": [
    "###Luckily, we have no missing values"
   ]
  },
  {
   "cell_type": "markdown",
   "metadata": {
    "_uuid": "85b59fefde7c5ecdb50e3b8da0cb719f4e14630f"
   },
   "source": [
    "#### Let's understand our columns better:"
   ]
  },
  {
   "cell_type": "code",
   "execution_count": 11,
   "metadata": {
    "_uuid": "5593d1021d54aad598c21f877e57969e6b47f5a8"
   },
   "outputs": [
    {
     "name": "stdout",
     "output_type": "stream",
     "text": [
      "age:\t\t\tage\n",
      "sex:\t\t\t1: male, 0: female\n",
      "cp:\t\t\tchest pain type, 1: typical angina, 2: atypical angina, 3: non-anginal pain, 4: asymptomatic\n",
      "trestbps:\t\t\tresting blood pressure\n",
      "chol:\t\t\t serum cholestoral in mg/dl\n",
      "fbs:\t\t\tfasting blood sugar > 120 mg/dl\n",
      "restecg:\t\t\tresting electrocardiographic results (values 0,1,2)\n",
      "thalach:\t\t\t maximum heart rate achieved\n",
      "exang:\t\t\texercise induced angina\n",
      "oldpeak:\t\t\toldpeak = ST depression induced by exercise relative to rest\n",
      "slope:\t\t\tthe slope of the peak exercise ST segment\n",
      "ca:\t\t\tnumber of major vessels (0-3) colored by flourosopy\n",
      "thal:\t\t\tthal: 3 = normal; 6 = fixed defect; 7 = reversable defect\n"
     ]
    }
   ],
   "source": [
    "info = [\"age\",\"1: male, 0: female\",\"chest pain type, 1: typical angina, 2: atypical angina, 3: non-anginal pain, 4: asymptomatic\",\"resting blood pressure\",\" serum cholestoral in mg/dl\",\"fasting blood sugar > 120 mg/dl\",\"resting electrocardiographic results (values 0,1,2)\",\" maximum heart rate achieved\",\"exercise induced angina\",\"oldpeak = ST depression induced by exercise relative to rest\",\"the slope of the peak exercise ST segment\",\"number of major vessels (0-3) colored by flourosopy\",\"thal: 3 = normal; 6 = fixed defect; 7 = reversable defect\"]\n",
    "\n",
    "\n",
    "\n",
    "for i in range(len(info)):\n",
    "    print(dataset.columns[i]+\":\\t\\t\\t\"+info[i])"
   ]
  },
  {
   "cell_type": "markdown",
   "metadata": {
    "_uuid": "6a970312b67b588610a8579ecc2ba4bac0fcee04"
   },
   "source": [
    "#### Analysing the 'target' variable"
   ]
  },
  {
   "cell_type": "code",
   "execution_count": 12,
   "metadata": {
    "_uuid": "b883243919bd382193ed15e2a90f9b522bf6f1f7"
   },
   "outputs": [
    {
     "data": {
      "text/plain": [
       "count    303.000000\n",
       "mean       0.544554\n",
       "std        0.498835\n",
       "min        0.000000\n",
       "25%        0.000000\n",
       "50%        1.000000\n",
       "75%        1.000000\n",
       "max        1.000000\n",
       "Name: target, dtype: float64"
      ]
     },
     "execution_count": 12,
     "metadata": {},
     "output_type": "execute_result"
    }
   ],
   "source": [
    "dataset[\"target\"].describe()"
   ]
  },
  {
   "cell_type": "code",
   "execution_count": 13,
   "metadata": {
    "_uuid": "9c107b83e0148914826282bf1f0ab28505d577ab"
   },
   "outputs": [
    {
     "data": {
      "text/plain": [
       "array([1, 0], dtype=int64)"
      ]
     },
     "execution_count": 13,
     "metadata": {},
     "output_type": "execute_result"
    }
   ],
   "source": [
    "dataset[\"target\"].unique()"
   ]
  },
  {
   "cell_type": "markdown",
   "metadata": {
    "_uuid": "8c96e97e3f52844e8c4c6ff069f53bfe97c9982d"
   },
   "source": [
    "#### Clearly, this is a classification problem, with the target variable having values '0' and '1'"
   ]
  },
  {
   "cell_type": "markdown",
   "metadata": {
    "_uuid": "3ae0dfa26e2daf4cfc8e1c6f3b5008d0dab22ec0"
   },
   "source": [
    "### Checking correlation between columns"
   ]
  },
  {
   "cell_type": "code",
   "execution_count": 14,
   "metadata": {
    "_uuid": "3059188d3874be2e0c80e13655609ac6a6fc644f"
   },
   "outputs": [
    {
     "name": "stdout",
     "output_type": "stream",
     "text": [
      "target      1.000000\n",
      "exang       0.436757\n",
      "cp          0.433798\n",
      "oldpeak     0.430696\n",
      "thalach     0.421741\n",
      "ca          0.391724\n",
      "slope       0.345877\n",
      "thal        0.344029\n",
      "sex         0.280937\n",
      "age         0.225439\n",
      "trestbps    0.144931\n",
      "restecg     0.137230\n",
      "chol        0.085239\n",
      "fbs         0.028046\n",
      "Name: target, dtype: float64\n"
     ]
    }
   ],
   "source": [
    "print(dataset.corr()[\"target\"].abs().sort_values(ascending=False))"
   ]
  },
  {
   "cell_type": "code",
   "execution_count": 15,
   "metadata": {
    "_uuid": "6e8cf6f86952d94764c1021207fa5b383b2b84bf"
   },
   "outputs": [],
   "source": [
    "#This shows that most columns are moderately correlated with target, but 'fbs' is very weakly correlated."
   ]
  },
  {
   "cell_type": "markdown",
   "metadata": {
    "_uuid": "40b6c0a9d03bcab78b87bd41c7df3fe1b930547a"
   },
   "source": [
    "## Exploratory Data Analysis (EDA)"
   ]
  },
  {
   "cell_type": "markdown",
   "metadata": {
    "_uuid": "41da6ba94903ad6ee64b1ba6a1462815ae603536"
   },
   "source": [
    "### First, analysing the target variable:"
   ]
  },
  {
   "cell_type": "code",
   "execution_count": 16,
   "metadata": {
    "_uuid": "29aa23ccb8e6438688e16346b3474f4cc03bae13"
   },
   "outputs": [
    {
     "name": "stdout",
     "output_type": "stream",
     "text": [
      "1    165\n",
      "0    138\n",
      "Name: target, dtype: int64\n"
     ]
    },
    {
     "data": {
      "image/png": "[encoded data removed]",
      "text/plain": [
       "<Figure size 640x480 with 1 Axes>"
      ]
     },
     "metadata": {},
     "output_type": "display_data"
    }
   ],
   "source": [
    "y = dataset[\"target\"]\n",
    "\n",
    "sns.countplot(y)\n",
    "\n",
    "\n",
    "target_temp = dataset.target.value_counts()\n",
    "\n",
    "print(target_temp)"
   ]
  },
  {
   "cell_type": "code",
   "execution_count": 17,
   "metadata": {
    "_uuid": "5240af8bcd12736900050cea077c713d7d9641df"
   },
   "outputs": [
    {
     "name": "stdout",
     "output_type": "stream",
     "text": [
      "Percentage of patience without heart problems: 45.54\n",
      "Percentage of patience with heart problems: 54.46\n"
     ]
    }
   ],
   "source": [
    "print(\"Percentage of patience without heart problems: \"+str(round(target_temp[0]*100/303,2)))\n",
    "print(\"Percentage of patience with heart problems: \"+str(round(target_temp[1]*100/303,2)))"
   ]
  },
  {
   "cell_type": "markdown",
   "metadata": {
    "_uuid": "e7de1da221d4ee72e89c365fecfa7d4506f1b184"
   },
   "source": [
    "### We'll analyse 'sex', 'cp', 'fbs', 'restecg', 'exang', 'slope', 'ca' and 'thal' features"
   ]
  },
  {
   "cell_type": "markdown",
   "metadata": {
    "_uuid": "82f9919a1312b53f22980a0071d077e5b0288d90"
   },
   "source": [
    "### Analysing the 'Sex' feature"
   ]
  },
  {
   "cell_type": "code",
   "execution_count": 18,
   "metadata": {
    "_uuid": "07a3fb2f44b82360d0393377029851655bcdcd31"
   },
   "outputs": [
    {
     "data": {
      "text/plain": [
       "array([1, 0], dtype=int64)"
      ]
     },
     "execution_count": 18,
     "metadata": {},
     "output_type": "execute_result"
    }
   ],
   "source": [
    "dataset[\"sex\"].unique()"
   ]
  },
  {
   "cell_type": "markdown",
   "metadata": {
    "_uuid": "623fe97e454ea061942ec6d948adeb5b7026cc65"
   },
   "source": [
    "##### We notice, that as expected, the 'sex' feature has 2 unique features"
   ]
  },
  {
   "cell_type": "code",
   "execution_count": 19,
   "metadata": {
    "_uuid": "5d10e6c167251e6d3b1b82a06159da234eeef721"
   },
   "outputs": [
    {
     "data": {
      "text/plain": [
       "<AxesSubplot:xlabel='sex', ylabel='target'>"
      ]
     },
     "execution_count": 19,
     "metadata": {},
     "output_type": "execute_result"
    },
    {
     "data": {
      "image/png": "[encoded data removed]",
      "text/plain": [
       "<Figure size 640x480 with 1 Axes>"
      ]
     },
     "metadata": {},
     "output_type": "display_data"
    }
   ],
   "source": [
    "sns.barplot(dataset[\"sex\"],y)"
   ]
  },
  {
   "cell_type": "markdown",
   "metadata": {
    "_uuid": "31142d6b72ae034487a088860fe9c7ff85cf7ca2"
   },
   "source": [
    "##### We notice, that females are more likely to have heart problems than males"
   ]
  },
  {
   "cell_type": "markdown",
   "metadata": {
    "_uuid": "f7bbd747b02746eadfa2b525544509c8545ac1af"
   },
   "source": [
    "### Analysing the 'Chest Pain Type' feature"
   ]
  },
  {
   "cell_type": "code",
   "execution_count": 20,
   "metadata": {
    "_uuid": "7c795d4a86ee05d58e10a412add90065afbd4a70"
   },
   "outputs": [
    {
     "data": {
      "text/plain": [
       "array([3, 2, 1, 0], dtype=int64)"
      ]
     },
     "execution_count": 20,
     "metadata": {},
     "output_type": "execute_result"
    }
   ],
   "source": [
    "dataset[\"cp\"].unique()"
   ]
  },
  {
   "cell_type": "markdown",
   "metadata": {
    "_uuid": "4e83947e6876ffa63837c7e5ce1364a53cbfa499"
   },
   "source": [
    "##### As expected, the CP feature has values from 0 to 3"
   ]
  },
  {
   "cell_type": "code",
   "execution_count": 21,
   "metadata": {
    "_uuid": "56d6ed2b3d8d20a61814980cd459502b452d14c1"
   },
   "outputs": [
    {
     "data": {
      "text/plain": [
       "<AxesSubplot:xlabel='cp', ylabel='target'>"
      ]
     },
     "execution_count": 21,
     "metadata": {},
     "output_type": "execute_result"
    },
    {
     "data": {
      "image/png": "[encoded data removed]",
      "text/plain": [
       "<Figure size 640x480 with 1 Axes>"
      ]
     },
     "metadata": {},
     "output_type": "display_data"
    }
   ],
   "source": [
    "sns.barplot(dataset[\"cp\"],y)"
   ]
  },
  {
   "cell_type": "markdown",
   "metadata": {
    "_uuid": "510c7c3a7386a7e308cc6052025dc806fad61534"
   },
   "source": [
    "##### We notice, that chest pain of '0', i.e. the ones with typical angina are much less likely to have heart problems"
   ]
  },
  {
   "cell_type": "markdown",
   "metadata": {
    "_uuid": "bb50bd1cedd31d29683e2411439368aa1390e7ef"
   },
   "source": [
    "### Analysing the FBS feature"
   ]
  },
  {
   "cell_type": "code",
   "execution_count": 22,
   "metadata": {
    "_uuid": "55f9ca01da5294b5404f3eb14d202ae90e0ea1bf"
   },
   "outputs": [
    {
     "data": {
      "text/plain": [
       "count    303.000000\n",
       "mean       0.148515\n",
       "std        0.356198\n",
       "min        0.000000\n",
       "25%        0.000000\n",
       "50%        0.000000\n",
       "75%        0.000000\n",
       "max        1.000000\n",
       "Name: fbs, dtype: float64"
      ]
     },
     "execution_count": 22,
     "metadata": {},
     "output_type": "execute_result"
    }
   ],
   "source": [
    "dataset[\"fbs\"].describe()"
   ]
  },
  {
   "cell_type": "code",
   "execution_count": 23,
   "metadata": {
    "_uuid": "43d491d311a8b96a6a9cbecbeff87f577584cd3a"
   },
   "outputs": [
    {
     "data": {
      "text/plain": [
       "array([1, 0], dtype=int64)"
      ]
     },
     "execution_count": 23,
     "metadata": {},
     "output_type": "execute_result"
    }
   ],
   "source": [
    "dataset[\"fbs\"].unique()"
   ]
  },
  {
   "cell_type": "code",
   "execution_count": 24,
   "metadata": {
    "_uuid": "90509dcee97df858115131c771e69347a044aafb"
   },
   "outputs": [
    {
     "data": {
      "text/plain": [
       "<AxesSubplot:xlabel='fbs', ylabel='target'>"
      ]
     },
     "execution_count": 24,
     "metadata": {},
     "output_type": "execute_result"
    },
    {
     "data": {
      "image/png": "[encoded data removed]",
      "text/plain": [
       "<Figure size 640x480 with 1 Axes>"
      ]
     },
     "metadata": {},
     "output_type": "display_data"
    }
   ],
   "source": [
    "sns.barplot(dataset[\"fbs\"],y)"
   ]
  },
  {
   "cell_type": "markdown",
   "metadata": {
    "_uuid": "7ec0ef582de18e2ddd06083d4caca7f760ba3700"
   },
   "source": [
    "##### Nothing extraordinary here"
   ]
  },
  {
   "cell_type": "markdown",
   "metadata": {
    "_uuid": "5a8d6384c879ed40eddefed03b16607bc02deecf"
   },
   "source": [
    "### Analysing the restecg feature"
   ]
  },
  {
   "cell_type": "code",
   "execution_count": 25,
   "metadata": {
    "_uuid": "b12fcc535fe07bc58aa99e97ec9b4e0b01f30a8d"
   },
   "outputs": [
    {
     "data": {
      "text/plain": [
       "array([0, 1, 2], dtype=int64)"
      ]
     },
     "execution_count": 25,
     "metadata": {},
     "output_type": "execute_result"
    }
   ],
   "source": [
    "dataset[\"restecg\"].unique()"
   ]
  },
  {
   "cell_type": "code",
   "execution_count": 26,
   "metadata": {
    "_uuid": "ccae9489c2b6e63adb87cef83d367f49ef08a133"
   },
   "outputs": [
    {
     "data": {
      "text/plain": [
       "<AxesSubplot:xlabel='restecg', ylabel='target'>"
      ]
     },
     "execution_count": 26,
     "metadata": {},
     "output_type": "execute_result"
    },
    {
     "data": {
      "image/png": "[encoded data removed]",
      "text/plain": [
       "<Figure size 640x480 with 1 Axes>"
      ]
     },
     "metadata": {},
     "output_type": "display_data"
    }
   ],
   "source": [
    "sns.barplot(dataset[\"restecg\"],y)"
   ]
  },
  {
   "cell_type": "markdown",
   "metadata": {
    "_uuid": "84cf1d3ca8d3507765bbb3763834c3795380f1bf"
   },
   "source": [
    "##### We realize that people with restecg '1' and '0' are much more likely to have a heart disease than with restecg '2'"
   ]
  },
  {
   "cell_type": "markdown",
   "metadata": {
    "_uuid": "efaf4d85a6837cf43bd5b33d4eaaf193bc6fedc1"
   },
   "source": [
    "### Analysing the 'exang' feature"
   ]
  },
  {
   "cell_type": "code",
   "execution_count": 27,
   "metadata": {
    "_uuid": "53dd2985ea50aa6f9c9e5931050b4ef7b7aa609d"
   },
   "outputs": [
    {
     "data": {
      "text/plain": [
       "array([0, 1], dtype=int64)"
      ]
     },
     "execution_count": 27,
     "metadata": {},
     "output_type": "execute_result"
    }
   ],
   "source": [
    "dataset[\"exang\"].unique()"
   ]
  },
  {
   "cell_type": "code",
   "execution_count": 28,
   "metadata": {
    "_uuid": "237a60a2a11dab86e50cafcee4ec47df752876a1"
   },
   "outputs": [
    {
     "data": {
      "text/plain": [
       "<AxesSubplot:xlabel='exang', ylabel='target'>"
      ]
     },
     "execution_count": 28,
     "metadata": {},
     "output_type": "execute_result"
    },
    {
     "data": {
      "image/png": "[encoded data removed]",
      "text/plain": [
       "<Figure size 640x480 with 1 Axes>"
      ]
     },
     "metadata": {},
     "output_type": "display_data"
    }
   ],
   "source": [
    "sns.barplot(dataset[\"exang\"],y)"
   ]
  },
  {
   "cell_type": "markdown",
   "metadata": {
    "_uuid": "f442f08734344740ebc225af7a565bcb91962dca"
   },
   "source": [
    "##### People with exang=1 i.e. Exercise induced angina are much less likely to have heart problems"
   ]
  },
  {
   "cell_type": "markdown",
   "metadata": {
    "_uuid": "4ce2d649ededc2126324cd07ce430b005697e288"
   },
   "source": [
    "### Analysing the Slope feature"
   ]
  },
  {
   "cell_type": "code",
   "execution_count": 29,
   "metadata": {
    "_uuid": "e1e148d25967c36d2bb5fbfb802c70dae93f8a4f"
   },
   "outputs": [
    {
     "data": {
      "text/plain": [
       "array([0, 2, 1], dtype=int64)"
      ]
     },
     "execution_count": 29,
     "metadata": {},
     "output_type": "execute_result"
    }
   ],
   "source": [
    "dataset[\"slope\"].unique()"
   ]
  },
  {
   "cell_type": "code",
   "execution_count": 30,
   "metadata": {
    "_uuid": "beaa943c166b3c550fe357e6e937dbda46b707c9"
   },
   "outputs": [
    {
     "data": {
      "text/plain": [
       "<AxesSubplot:xlabel='slope', ylabel='target'>"
      ]
     },
     "execution_count": 30,
     "metadata": {},
     "output_type": "execute_result"
    },
    {
     "data": {
      "image/png": "[encoded data removed]",
      "text/plain": [
       "<Figure size 640x480 with 1 Axes>"
      ]
     },
     "metadata": {},
     "output_type": "display_data"
    }
   ],
   "source": [
    "sns.barplot(dataset[\"slope\"],y)"
   ]
  },
  {
   "cell_type": "markdown",
   "metadata": {
    "_uuid": "3141a4a203dd433dd7af6c02c1d0b44d048656a0"
   },
   "source": [
    "##### We observe, that Slope '2' causes heart pain much more than Slope '0' and '1'"
   ]
  },
  {
   "cell_type": "markdown",
   "metadata": {
    "_uuid": "c0b39456274f1e0f402704714494161ddc55f16a"
   },
   "source": [
    "### Analysing the 'ca' feature"
   ]
  },
  {
   "cell_type": "code",
   "execution_count": 31,
   "metadata": {
    "_uuid": "50db41d7e9ebe645bc7c6fcbaf26194176c274db"
   },
   "outputs": [],
   "source": [
    "#number of major vessels (0-3) colored by flourosopy"
   ]
  },
  {
   "cell_type": "code",
   "execution_count": 32,
   "metadata": {
    "_uuid": "a3b7ed6661d24dc399963afbca1e08d79243b431"
   },
   "outputs": [
    {
     "data": {
      "text/plain": [
       "array([0, 2, 1, 3, 4], dtype=int64)"
      ]
     },
     "execution_count": 32,
     "metadata": {},
     "output_type": "execute_result"
    }
   ],
   "source": [
    "dataset[\"ca\"].unique()"
   ]
  },
  {
   "cell_type": "code",
   "execution_count": 33,
   "metadata": {
    "_uuid": "f463859906d0287c68152ebe3cadc241e569802c"
   },
   "outputs": [
    {
     "data": {
      "text/plain": [
       "<AxesSubplot:xlabel='ca', ylabel='count'>"
      ]
     },
     "execution_count": 33,
     "metadata": {},
     "output_type": "execute_result"
    },
    {
     "data": {
      "image/png": "[encoded data removed]",
      "text/plain": [
       "<Figure size 640x480 with 1 Axes>"
      ]
     },
     "metadata": {},
     "output_type": "display_data"
    }
   ],
   "source": [
    "sns.countplot(dataset[\"ca\"])"
   ]
  },
  {
   "cell_type": "code",
   "execution_count": 34,
   "metadata": {
    "_uuid": "81483318bc63c7434eeb75515483c329abcf15e3"
   },
   "outputs": [
    {
     "data": {
      "text/plain": [
       "<AxesSubplot:xlabel='ca', ylabel='target'>"
      ]
     },
     "execution_count": 34,
     "metadata": {},
     "output_type": "execute_result"
    },
    {
     "data": {
      "image/png": "[encoded data removed]",
      "text/plain": [
       "<Figure size 640x480 with 1 Axes>"
      ]
     },
     "metadata": {},
     "output_type": "display_data"
    }
   ],
   "source": [
    "sns.barplot(dataset[\"ca\"],y)"
   ]
  },
  {
   "cell_type": "markdown",
   "metadata": {
    "_uuid": "87671e11e19372848af999bb17d061f577eb08b5"
   },
   "source": [
    "##### ca=4 has astonishingly large number of heart patients"
   ]
  },
  {
   "cell_type": "code",
   "execution_count": 35,
   "metadata": {
    "_uuid": "b4b057d99c7c3cdbe9e304a75b399f214f352aba"
   },
   "outputs": [],
   "source": [
    "### Analysing the 'thal' feature"
   ]
  },
  {
   "cell_type": "code",
   "execution_count": 36,
   "metadata": {
    "_uuid": "16eaf9a5f7433be2028369818aa54e2bf01e544e"
   },
   "outputs": [
    {
     "data": {
      "text/plain": [
       "array([1, 2, 3, 0], dtype=int64)"
      ]
     },
     "execution_count": 36,
     "metadata": {},
     "output_type": "execute_result"
    }
   ],
   "source": [
    "dataset[\"thal\"].unique()"
   ]
  },
  {
   "cell_type": "code",
   "execution_count": 37,
   "metadata": {
    "_uuid": "08947d9c4b05d68b2fe5ae70e33566063c44f8d4"
   },
   "outputs": [
    {
     "data": {
      "text/plain": [
       "<AxesSubplot:xlabel='thal', ylabel='target'>"
      ]
     },
     "execution_count": 37,
     "metadata": {},
     "output_type": "execute_result"
    },
    {
     "data": {
      "image/png": "[encoded data removed]",
      "text/plain": [
       "<Figure size 640x480 with 1 Axes>"
      ]
     },
     "metadata": {},
     "output_type": "display_data"
    }
   ],
   "source": [
    "sns.barplot(dataset[\"thal\"],y)"
   ]
  },
  {
   "cell_type": "code",
   "execution_count": 38,
   "metadata": {
    "_uuid": "dc84bb1643cbed20e8ac5980db59ffd54d5b581c"
   },
   "outputs": [
    {
     "data": {
      "text/plain": [
       "<AxesSubplot:xlabel='thal', ylabel='Density'>"
      ]
     },
     "execution_count": 38,
     "metadata": {},
     "output_type": "execute_result"
    },
    {
     "data": {
      "image/png": "[encoded data removed]",
      "text/plain": [
       "<Figure size 640x480 with 1 Axes>"
      ]
     },
     "metadata": {},
     "output_type": "display_data"
    }
   ],
   "source": [
    "sns.distplot(dataset[\"thal\"])"
   ]
  },
  {
   "cell_type": "markdown",
   "metadata": {
    "_uuid": "d1c95f2180e264978c85703ece34898dab4d522b"
   },
   "source": [
    "## IV. Train Test split"
   ]
  },
  {
   "cell_type": "code",
   "execution_count": 39,
   "metadata": {
    "_uuid": "829fcda5b63e1b9f7ecb7762e8ca617166533aca"
   },
   "outputs": [],
   "source": [
    "from sklearn.model_selection import train_test_split\n",
    "\n",
    "predictors = dataset.drop(\"target\",axis=1)\n",
    "target = dataset[\"target\"]\n",
    "\n",
    "X_train,X_test,Y_train,Y_test = train_test_split(predictors,target,test_size=0.20,random_state=0)"
   ]
  },
  {
   "cell_type": "code",
   "execution_count": 40,
   "metadata": {
    "_uuid": "7a74842015c2f193d16caa4fa25e2c4cbf1940f8"
   },
   "outputs": [
    {
     "data": {
      "text/plain": [
       "(242, 13)"
      ]
     },
     "execution_count": 40,
     "metadata": {},
     "output_type": "execute_result"
    }
   ],
   "source": [
    "X_train.shape"
   ]
  },
  {
   "cell_type": "code",
   "execution_count": 41,
   "metadata": {
    "_uuid": "1f777652df4521deb877dac4d5d635d8cd35b279"
   },
   "outputs": [
    {
     "data": {
      "text/plain": [
       "(61, 13)"
      ]
     },
     "execution_count": 41,
     "metadata": {},
     "output_type": "execute_result"
    }
   ],
   "source": [
    "X_test.shape"
   ]
  },
  {
   "cell_type": "code",
   "execution_count": 42,
   "metadata": {
    "_uuid": "028c968a076840657faf7dbc3bfee9fe7b5ca45a"
   },
   "outputs": [
    {
     "data": {
      "text/plain": [
       "(242,)"
      ]
     },
     "execution_count": 42,
     "metadata": {},
     "output_type": "execute_result"
    }
   ],
   "source": [
    "Y_train.shape"
   ]
  },
  {
   "cell_type": "code",
   "execution_count": 43,
   "metadata": {
    "_uuid": "eb6857dfc18da52dae38bec95d20106f39136e61"
   },
   "outputs": [
    {
     "data": {
      "text/plain": [
       "(61,)"
      ]
     },
     "execution_count": 43,
     "metadata": {},
     "output_type": "execute_result"
    }
   ],
   "source": [
    "Y_test.shape"
   ]
  },
  {
   "cell_type": "markdown",
   "metadata": {
    "_uuid": "3b4f28488a92917f26e9876c1880295ec9c077ed"
   },
   "source": [
    "## V. Model Fitting"
   ]
  },
  {
   "cell_type": "code",
   "execution_count": 44,
   "metadata": {
    "_uuid": "fe363c1be8335a48a4444660db5fa6bd0a24b71a"
   },
   "outputs": [],
   "source": [
    "from sklearn.metrics import accuracy_score"
   ]
  },
  {
   "cell_type": "markdown",
   "metadata": {
    "_uuid": "afa6b322cbc225f3353bd295aea24fe5fbbb78fe"
   },
   "source": [
    "### Logistic Regression"
   ]
  },
  {
   "cell_type": "code",
   "execution_count": 45,
   "metadata": {
    "_uuid": "9aea2f597203ccf38cd0d67ae58bff6e163dea1c"
   },
   "outputs": [],
   "source": [
    "from sklearn.linear_model import LogisticRegression\n",
    "\n",
    "lr = LogisticRegression()\n",
    "\n",
    "lr.fit(X_train,Y_train)\n",
    "\n",
    "Y_pred_lr = lr.predict(X_test)"
   ]
  },
  {
   "cell_type": "code",
   "execution_count": 46,
   "metadata": {
    "_uuid": "58fb833d1c74355ebdafe926968632942f377421"
   },
   "outputs": [
    {
     "data": {
      "text/plain": [
       "(61,)"
      ]
     },
     "execution_count": 46,
     "metadata": {},
     "output_type": "execute_result"
    }
   ],
   "source": [
    "Y_pred_lr.shape"
   ]
  },
  {
   "cell_type": "code",
   "execution_count": 53,
   "metadata": {
    "_uuid": "ee4cba838316adf863f8daf131d36a970d36b839"
   },
   "outputs": [
    {
     "name": "stdout",
     "output_type": "stream",
     "text": [
      "The accuracy score achieved using Logistic Regression is: 85.25 %\n"
     ]
    }
   ],
   "source": [
    "score_lr = round(accuracy_score(Y_pred_lr,Y_test)*100,2)\n",
    "\n",
    "print(\"The accuracy score achieved using Logistic Regression is: \"+str(score_lr)+\" %\")"
   ]
  },
  {
   "cell_type": "markdown",
   "metadata": {
    "_uuid": "4f92fceb9584ae03d3ab370ee11899cb287be690"
   },
   "source": [
    "### Naive Bayes"
   ]
  },
  {
   "cell_type": "code",
   "execution_count": 54,
   "metadata": {
    "_uuid": "ffcdab99b4108902547f0179a242a9757078dc68"
   },
   "outputs": [],
   "source": [
    "from sklearn.naive_bayes import GaussianNB\n",
    "\n",
    "nb = GaussianNB()\n",
    "\n",
    "nb.fit(X_train,Y_train)\n",
    "\n",
    "Y_pred_nb = nb.predict(X_test)"
   ]
  },
  {
   "cell_type": "code",
   "execution_count": 55,
   "metadata": {
    "_uuid": "9109059d06e4c92494451b3cdab0bbb5a1816072"
   },
   "outputs": [
    {
     "data": {
      "text/plain": [
       "(61,)"
      ]
     },
     "execution_count": 55,
     "metadata": {},
     "output_type": "execute_result"
    }
   ],
   "source": [
    "Y_pred_nb.shape"
   ]
  },
  {
   "cell_type": "code",
   "execution_count": 56,
   "metadata": {
    "_uuid": "e8f8f55db061ada0b669ffa46e9ecc745fcda1ae"
   },
   "outputs": [
    {
     "name": "stdout",
     "output_type": "stream",
     "text": [
      "The accuracy score achieved using Naive Bayes is: 85.25 %\n"
     ]
    }
   ],
   "source": [
    "score_nb = round(accuracy_score(Y_pred_nb,Y_test)*100,2)\n",
    "\n",
    "print(\"The accuracy score achieved using Naive Bayes is: \"+str(score_nb)+\" %\")"
   ]
  },
  {
   "cell_type": "markdown",
   "metadata": {
    "_uuid": "2af8b010893284bae0d6cccf66ccfda646e7ca58"
   },
   "source": [
    "### SVM"
   ]
  },
  {
   "cell_type": "code",
   "execution_count": 57,
   "metadata": {
    "_uuid": "f1936ece7b76b67e552758a4c80e9421bffe0bc2"
   },
   "outputs": [],
   "source": [
    "from sklearn import svm\n",
    "\n",
    "sv = svm.SVC(kernel='linear')\n",
    "\n",
    "sv.fit(X_train, Y_train)\n",
    "\n",
    "Y_pred_svm = sv.predict(X_test)"
   ]
  },
  {
   "cell_type": "code",
   "execution_count": 58,
   "metadata": {
    "_uuid": "36f60f104264d44760705b9c802504f426e15592"
   },
   "outputs": [
    {
     "data": {
      "text/plain": [
       "(61,)"
      ]
     },
     "execution_count": 58,
     "metadata": {},
     "output_type": "execute_result"
    }
   ],
   "source": [
    "Y_pred_svm.shape"
   ]
  },
  {
   "cell_type": "code",
   "execution_count": 59,
   "metadata": {
    "_uuid": "f5a73bca6721f42b3983c328fd475390ba9bc4d3"
   },
   "outputs": [
    {
     "name": "stdout",
     "output_type": "stream",
     "text": [
      "The accuracy score achieved using Linear SVM is: 81.97 %\n"
     ]
    }
   ],
   "source": [
    "score_svm = round(accuracy_score(Y_pred_svm,Y_test)*100,2)\n",
    "\n",
    "print(\"The accuracy score achieved using Linear SVM is: \"+str(score_svm)+\" %\")"
   ]
  },
  {
   "cell_type": "markdown",
   "metadata": {
    "_uuid": "4e26d165b57f3f7882570964f1c2dc4a548404de"
   },
   "source": [
    "### K Nearest Neighbors"
   ]
  },
  {
   "cell_type": "code",
   "execution_count": 60,
   "metadata": {
    "_uuid": "286352867c53d5fb7dac2fc9bf4b2ac58a466ad0"
   },
   "outputs": [],
   "source": [
    "from sklearn.neighbors import KNeighborsClassifier\n",
    "\n",
    "knn = KNeighborsClassifier(n_neighbors=7)\n",
    "knn.fit(X_train,Y_train)\n",
    "Y_pred_knn=knn.predict(X_test)"
   ]
  },
  {
   "cell_type": "code",
   "execution_count": 61,
   "metadata": {
    "_uuid": "bccb7c1fcec36dd2eb7eb222f49604029adec2b4"
   },
   "outputs": [
    {
     "data": {
      "text/plain": [
       "(61,)"
      ]
     },
     "execution_count": 61,
     "metadata": {},
     "output_type": "execute_result"
    }
   ],
   "source": [
    "Y_pred_knn.shape"
   ]
  },
  {
   "cell_type": "code",
   "execution_count": 62,
   "metadata": {
    "_uuid": "dda4e8f8f18f96557cdd38cee177de0456db5f45"
   },
   "outputs": [
    {
     "name": "stdout",
     "output_type": "stream",
     "text": [
      "The accuracy score achieved using KNN is: 67.21 %\n"
     ]
    }
   ],
   "source": [
    "score_knn = round(accuracy_score(Y_pred_knn,Y_test)*100,2)\n",
    "\n",
    "print(\"The accuracy score achieved using KNN is: \"+str(score_knn)+\" %\")"
   ]
  },
  {
   "cell_type": "markdown",
   "metadata": {
    "_uuid": "abb767170c662e4d9a8b240fd0fd7286ffb0b67f"
   },
   "source": [
    "### Decision Tree"
   ]
  },
  {
   "cell_type": "code",
   "execution_count": 63,
   "metadata": {
    "_uuid": "8c141316764dce80103d1879c9b17d853702a746"
   },
   "outputs": [],
   "source": [
    "from sklearn.tree import DecisionTreeClassifier\n",
    "\n",
    "max_accuracy = 0\n",
    "\n",
    "\n",
    "for x in range(200):\n",
    "    dt = DecisionTreeClassifier(random_state=x)\n",
    "    dt.fit(X_train,Y_train)\n",
    "    Y_pred_dt = dt.predict(X_test)\n",
    "    current_accuracy = round(accuracy_score(Y_pred_dt,Y_test)*100,2)\n",
    "    if(current_accuracy>max_accuracy):\n",
    "        max_accuracy = current_accuracy\n",
    "        best_x = x\n",
    "        \n",
    "#print(max_accuracy)\n",
    "#print(best_x)\n",
    "\n",
    "\n",
    "dt = DecisionTreeClassifier(random_state=best_x)\n",
    "dt.fit(X_train,Y_train)\n",
    "Y_pred_dt = dt.predict(X_test)"
   ]
  },
  {
   "cell_type": "code",
   "execution_count": 64,
   "metadata": {
    "_uuid": "8de0bd2d57abd24d3a97a5b020a24439eb106f2b"
   },
   "outputs": [
    {
     "name": "stdout",
     "output_type": "stream",
     "text": [
      "(61,)\n"
     ]
    }
   ],
   "source": [
    "print(Y_pred_dt.shape)"
   ]
  },
  {
   "cell_type": "code",
   "execution_count": 65,
   "metadata": {
    "_uuid": "52ab93482d3b53824e9bc2b3e4114c57253e0c5b"
   },
   "outputs": [
    {
     "name": "stdout",
     "output_type": "stream",
     "text": [
      "The accuracy score achieved using Decision Tree is: 81.97 %\n"
     ]
    }
   ],
   "source": [
    "score_dt = round(accuracy_score(Y_pred_dt,Y_test)*100,2)\n",
    "\n",
    "print(\"The accuracy score achieved using Decision Tree is: \"+str(score_dt)+\" %\")"
   ]
  },
  {
   "cell_type": "markdown",
   "metadata": {
    "_uuid": "9e663d26efb00a434751f06ad0292949eff6c358"
   },
   "source": [
    "### Random Forest"
   ]
  },
  {
   "cell_type": "code",
   "execution_count": 94,
   "metadata": {
    "_uuid": "8284f5222cf90be1bcd37887c45f91cf22ed1193"
   },
   "outputs": [
    {
     "name": "stdout",
     "output_type": "stream",
     "text": [
      "0.9016393442622951\n"
     ]
    }
   ],
   "source": [
    "from sklearn.ensemble import RandomForestClassifier\n",
    "\n",
    "max_accuracy = 0\n",
    "\n",
    "\n",
    "for x in range(2000):\n",
    "    rf = RandomForestClassifier(random_state=x)\n",
    "    rf.fit(X_train,Y_train)\n",
    "    Y_pred_rf = rf.predict(X_test)\n",
    "    current_accuracy = round(accuracy_score(Y_pred_rf,Y_test)*100,2)\n",
    "    if(current_accuracy>max_accuracy):\n",
    "        max_accuracy = current_accuracy\n",
    "        best_x = x\n",
    "        \n",
    "#print(max_accuracy)\n",
    "#print(best_x)\n",
    "\n",
    "rf = RandomForestClassifier(random_state=best_x)\n",
    "rf.fit(X_train,Y_train)\n",
    "Y_pred_rf = rf.predict(X_test)\n",
    "p = rf.score(X_test,Y_test)\n",
    "print(p)"
   ]
  },
  {
   "cell_type": "code",
   "execution_count": 67,
   "metadata": {
    "_uuid": "edc8e1cbb57be0aa9e9ad5f4997212d53a9a4c99"
   },
   "outputs": [
    {
     "data": {
      "text/plain": [
       "(61,)"
      ]
     },
     "execution_count": 67,
     "metadata": {},
     "output_type": "execute_result"
    }
   ],
   "source": [
    "Y_pred_rf.shape"
   ]
  },
  {
   "cell_type": "code",
   "execution_count": 70,
   "metadata": {
    "_uuid": "965228f30e05e07e7960a3375dc7dc85b49caed7"
   },
   "outputs": [
    {
     "name": "stdout",
     "output_type": "stream",
     "text": [
      "The accuracy score achieved using Decision Tree is: 90.16 %\n"
     ]
    }
   ],
   "source": [
    "score_rf = round(accuracy_score(Y_pred_rf,Y_test)*100,2)\n",
    "\n",
    "print(\"The accuracy score achieved using Decision Tree is: \"+str(score_rf)+\" %\")"
   ]
  },
  {
   "cell_type": "code",
   "execution_count": 96,
   "metadata": {},
   "outputs": [],
   "source": [
    "pickle.dump(rf, open('heart-disease-prediction-model.pkl', 'wb'))"
   ]
  },
  {
   "cell_type": "markdown",
   "metadata": {
    "_uuid": "6a0fc13a6c2fccd6a725a7691cfe95d74348a8ae"
   },
   "source": [
    "### XGBoost"
   ]
  },
  {
   "cell_type": "code",
   "execution_count": 72,
   "metadata": {},
   "outputs": [
    {
     "name": "stdout",
     "output_type": "stream",
     "text": [
      "Collecting xgboost\n",
      "  Downloading xgboost-1.7.3-py3-none-win_amd64.whl (89.1 MB)\n",
      "     ---------------------------------------- 89.1/89.1 MB 2.1 MB/s eta 0:00:00\n",
      "Requirement already satisfied: scipy in c:\\users\\admin\\anaconda3\\lib\\site-packages (from xgboost) (1.9.1)\n",
      "Requirement already satisfied: numpy in c:\\users\\admin\\anaconda3\\lib\\site-packages (from xgboost) (1.21.5)\n",
      "Installing collected packages: xgboost\n",
      "Successfully installed xgboost-1.7.3\n",
      "Note: you may need to restart the kernel to use updated packages.\n"
     ]
    }
   ],
   "source": [
    "pip install xgboost"
   ]
  },
  {
   "cell_type": "code",
   "execution_count": 73,
   "metadata": {
    "_uuid": "5a437f3c0e190887e2192ecb1844eaa6eb1d34a7"
   },
   "outputs": [],
   "source": [
    "import xgboost as xgb\n",
    "\n",
    "xgb_model = xgb.XGBClassifier(objective=\"binary:logistic\", random_state=42)\n",
    "xgb_model.fit(X_train, Y_train)\n",
    "\n",
    "Y_pred_xgb = xgb_model.predict(X_test)"
   ]
  },
  {
   "cell_type": "code",
   "execution_count": 74,
   "metadata": {
    "_uuid": "168d52cd705f2abb6763107328c984e4252c618e"
   },
   "outputs": [
    {
     "data": {
      "text/plain": [
       "(61,)"
      ]
     },
     "execution_count": 74,
     "metadata": {},
     "output_type": "execute_result"
    }
   ],
   "source": [
    "Y_pred_xgb.shape"
   ]
  },
  {
   "cell_type": "code",
   "execution_count": 75,
   "metadata": {
    "_uuid": "319c4f0d2e62b03c95a48df0ecc33b15e7fa7f39"
   },
   "outputs": [
    {
     "name": "stdout",
     "output_type": "stream",
     "text": [
      "The accuracy score achieved using XGBoost is: 78.69 %\n"
     ]
    }
   ],
   "source": [
    "score_xgb = round(accuracy_score(Y_pred_xgb,Y_test)*100,2)\n",
    "\n",
    "print(\"The accuracy score achieved using XGBoost is: \"+str(score_xgb)+\" %\")"
   ]
  },
  {
   "cell_type": "markdown",
   "metadata": {
    "_uuid": "e224ab23f275a3a56cdba6a9ccfddbd6a4d3b4fd"
   },
   "source": [
    "### Neural Network"
   ]
  },
  {
   "cell_type": "code",
   "execution_count": 79,
   "metadata": {},
   "outputs": [
    {
     "name": "stdout",
     "output_type": "stream",
     "text": [
      "Collecting tensorflow\n",
      "  Downloading tensorflow-2.11.0-cp39-cp39-win_amd64.whl (1.9 kB)\n",
      "Collecting tensorflow-intel==2.11.0\n",
      "  Downloading tensorflow_intel-2.11.0-cp39-cp39-win_amd64.whl (266.3 MB)\n",
      "     -------------------------------------- 266.3/266.3 MB 1.2 MB/s eta 0:00:00\n",
      "Collecting gast<=0.4.0,>=0.2.1\n",
      "  Downloading gast-0.4.0-py3-none-any.whl (9.8 kB)\n",
      "Requirement already satisfied: six>=1.12.0 in c:\\users\\admin\\anaconda3\\lib\\site-packages (from tensorflow-intel==2.11.0->tensorflow) (1.16.0)\n",
      "Collecting tensorflow-io-gcs-filesystem>=0.23.1\n",
      "  Downloading tensorflow_io_gcs_filesystem-0.30.0-cp39-cp39-win_amd64.whl (1.5 MB)\n",
      "     ---------------------------------------- 1.5/1.5 MB 2.9 MB/s eta 0:00:00\n",
      "Collecting absl-py>=1.0.0\n",
      "  Downloading absl_py-1.4.0-py3-none-any.whl (126 kB)\n",
      "     ---------------------------------------- 126.5/126.5 kB ? eta 0:00:00\n",
      "Requirement already satisfied: keras<2.12,>=2.11.0 in c:\\users\\admin\\anaconda3\\lib\\site-packages (from tensorflow-intel==2.11.0->tensorflow) (2.11.0)\n",
      "Collecting astunparse>=1.6.0\n",
      "  Downloading astunparse-1.6.3-py2.py3-none-any.whl (12 kB)\n",
      "Collecting termcolor>=1.1.0\n",
      "  Downloading termcolor-2.2.0-py3-none-any.whl (6.6 kB)\n",
      "Requirement already satisfied: numpy>=1.20 in c:\\users\\admin\\anaconda3\\lib\\site-packages (from tensorflow-intel==2.11.0->tensorflow) (1.21.5)\n",
      "Requirement already satisfied: packaging in c:\\users\\admin\\anaconda3\\lib\\site-packages (from tensorflow-intel==2.11.0->tensorflow) (21.3)\n",
      "Collecting grpcio<2.0,>=1.24.3\n",
      "  Downloading grpcio-1.51.1-cp39-cp39-win_amd64.whl (3.7 MB)\n",
      "     ---------------------------------------- 3.7/3.7 MB 2.7 MB/s eta 0:00:00\n",
      "Collecting protobuf<3.20,>=3.9.2\n",
      "  Downloading protobuf-3.19.6-cp39-cp39-win_amd64.whl (895 kB)\n",
      "     -------------------------------------- 895.9/895.9 kB 1.3 MB/s eta 0:00:00\n",
      "Requirement already satisfied: setuptools in c:\\users\\admin\\anaconda3\\lib\\site-packages (from tensorflow-intel==2.11.0->tensorflow) (63.4.1)\n",
      "Collecting opt-einsum>=2.3.2\n",
      "  Downloading opt_einsum-3.3.0-py3-none-any.whl (65 kB)\n",
      "     -------------------------------------- 65.5/65.5 kB 252.3 kB/s eta 0:00:00\n",
      "Requirement already satisfied: wrapt>=1.11.0 in c:\\users\\admin\\anaconda3\\lib\\site-packages (from tensorflow-intel==2.11.0->tensorflow) (1.14.1)\n",
      "Collecting tensorboard<2.12,>=2.11\n",
      "  Downloading tensorboard-2.11.2-py3-none-any.whl (6.0 MB)\n",
      "     ---------------------------------------- 6.0/6.0 MB 2.0 MB/s eta 0:00:00\n",
      "Collecting flatbuffers>=2.0\n",
      "  Downloading flatbuffers-23.1.21-py2.py3-none-any.whl (26 kB)\n",
      "Collecting google-pasta>=0.1.1\n",
      "  Downloading google_pasta-0.2.0-py3-none-any.whl (57 kB)\n",
      "     ---------------------------------------- 57.5/57.5 kB 1.5 MB/s eta 0:00:00\n",
      "Requirement already satisfied: h5py>=2.9.0 in c:\\users\\admin\\anaconda3\\lib\\site-packages (from tensorflow-intel==2.11.0->tensorflow) (3.7.0)\n",
      "Collecting libclang>=13.0.0\n",
      "  Downloading libclang-15.0.6.1-py2.py3-none-win_amd64.whl (23.2 MB)\n",
      "     ---------------------------------------- 23.2/23.2 MB 2.5 MB/s eta 0:00:00\n",
      "Collecting tensorflow-estimator<2.12,>=2.11.0\n",
      "  Downloading tensorflow_estimator-2.11.0-py2.py3-none-any.whl (439 kB)\n",
      "     -------------------------------------- 439.2/439.2 kB 3.1 MB/s eta 0:00:00\n",
      "Requirement already satisfied: typing-extensions>=3.6.6 in c:\\users\\admin\\anaconda3\\lib\\site-packages (from tensorflow-intel==2.11.0->tensorflow) (4.3.0)\n",
      "Requirement already satisfied: wheel<1.0,>=0.23.0 in c:\\users\\admin\\anaconda3\\lib\\site-packages (from astunparse>=1.6.0->tensorflow-intel==2.11.0->tensorflow) (0.37.1)\n",
      "Collecting google-auth-oauthlib<0.5,>=0.4.1\n",
      "  Downloading google_auth_oauthlib-0.4.6-py2.py3-none-any.whl (18 kB)\n",
      "Requirement already satisfied: markdown>=2.6.8 in c:\\users\\admin\\anaconda3\\lib\\site-packages (from tensorboard<2.12,>=2.11->tensorflow-intel==2.11.0->tensorflow) (3.3.4)\n",
      "Requirement already satisfied: requests<3,>=2.21.0 in c:\\users\\admin\\anaconda3\\lib\\site-packages (from tensorboard<2.12,>=2.11->tensorflow-intel==2.11.0->tensorflow) (2.28.1)\n",
      "Collecting google-auth<3,>=1.6.3\n",
      "  Downloading google_auth-2.16.0-py2.py3-none-any.whl (177 kB)\n",
      "     -------------------------------------- 177.8/177.8 kB 5.4 MB/s eta 0:00:00\n",
      "Collecting tensorboard-data-server<0.7.0,>=0.6.0\n",
      "  Downloading tensorboard_data_server-0.6.1-py3-none-any.whl (2.4 kB)\n",
      "Requirement already satisfied: werkzeug>=1.0.1 in c:\\users\\admin\\anaconda3\\lib\\site-packages (from tensorboard<2.12,>=2.11->tensorflow-intel==2.11.0->tensorflow) (2.0.3)\n",
      "Collecting tensorboard-plugin-wit>=1.6.0\n",
      "  Downloading tensorboard_plugin_wit-1.8.1-py3-none-any.whl (781 kB)\n",
      "     -------------------------------------- 781.3/781.3 kB 3.5 MB/s eta 0:00:00\n",
      "Requirement already satisfied: pyparsing!=3.0.5,>=2.0.2 in c:\\users\\admin\\anaconda3\\lib\\site-packages (from packaging->tensorflow-intel==2.11.0->tensorflow) (3.0.9)\n",
      "Requirement already satisfied: pyasn1-modules>=0.2.1 in c:\\users\\admin\\anaconda3\\lib\\site-packages (from google-auth<3,>=1.6.3->tensorboard<2.12,>=2.11->tensorflow-intel==2.11.0->tensorflow) (0.2.8)\n",
      "Collecting cachetools<6.0,>=2.0.0\n",
      "  Downloading cachetools-5.2.1-py3-none-any.whl (9.3 kB)\n",
      "Collecting rsa<5,>=3.1.4\n",
      "  Downloading rsa-4.9-py3-none-any.whl (34 kB)\n",
      "Collecting requests-oauthlib>=0.7.0\n",
      "  Downloading requests_oauthlib-1.3.1-py2.py3-none-any.whl (23 kB)\n",
      "Requirement already satisfied: idna<4,>=2.5 in c:\\users\\admin\\anaconda3\\lib\\site-packages (from requests<3,>=2.21.0->tensorboard<2.12,>=2.11->tensorflow-intel==2.11.0->tensorflow) (3.3)\n",
      "Requirement already satisfied: charset-normalizer<3,>=2 in c:\\users\\admin\\anaconda3\\lib\\site-packages (from requests<3,>=2.21.0->tensorboard<2.12,>=2.11->tensorflow-intel==2.11.0->tensorflow) (2.0.4)\n",
      "Requirement already satisfied: certifi>=2017.4.17 in c:\\users\\admin\\anaconda3\\lib\\site-packages (from requests<3,>=2.21.0->tensorboard<2.12,>=2.11->tensorflow-intel==2.11.0->tensorflow) (2022.9.14)\n",
      "Requirement already satisfied: urllib3<1.27,>=1.21.1 in c:\\users\\admin\\anaconda3\\lib\\site-packages (from requests<3,>=2.21.0->tensorboard<2.12,>=2.11->tensorflow-intel==2.11.0->tensorflow) (1.26.11)\n",
      "Requirement already satisfied: pyasn1<0.5.0,>=0.4.6 in c:\\users\\admin\\anaconda3\\lib\\site-packages (from pyasn1-modules>=0.2.1->google-auth<3,>=1.6.3->tensorboard<2.12,>=2.11->tensorflow-intel==2.11.0->tensorflow) (0.4.8)\n",
      "Collecting oauthlib>=3.0.0\n",
      "  Downloading oauthlib-3.2.2-py3-none-any.whl (151 kB)\n",
      "     -------------------------------------- 151.7/151.7 kB 4.6 MB/s eta 0:00:00\n",
      "Installing collected packages: tensorboard-plugin-wit, libclang, flatbuffers, termcolor, tensorflow-io-gcs-filesystem, tensorflow-estimator, tensorboard-data-server, rsa, protobuf, opt-einsum, oauthlib, grpcio, google-pasta, gast, cachetools, astunparse, absl-py, requests-oauthlib, google-auth, google-auth-oauthlib, tensorboard, tensorflow-intel, tensorflow\n",
      "Successfully installed absl-py-1.4.0 astunparse-1.6.3 cachetools-5.2.1 flatbuffers-23.1.21 gast-0.4.0 google-auth-2.16.0 google-auth-oauthlib-0.4.6 google-pasta-0.2.0 grpcio-1.51.1 libclang-15.0.6.1 oauthlib-3.2.2 opt-einsum-3.3.0 protobuf-3.19.6 requests-oauthlib-1.3.1 rsa-4.9 tensorboard-2.11.2 tensorboard-data-server-0.6.1 tensorboard-plugin-wit-1.8.1 tensorflow-2.11.0 tensorflow-estimator-2.11.0 tensorflow-intel-2.11.0 tensorflow-io-gcs-filesystem-0.30.0 termcolor-2.2.0\n",
      "Note: you may need to restart the kernel to use updated packages.\n"
     ]
    }
   ],
   "source": [
    "pip install tensorflow"
   ]
  },
  {
   "cell_type": "code",
   "execution_count": 80,
   "metadata": {
    "_uuid": "727b391ad6d86468a96e93dc645ade6e2da4048e"
   },
   "outputs": [],
   "source": [
    "from keras.models import Sequential\n",
    "from keras.layers import Dense"
   ]
  },
  {
   "cell_type": "code",
   "execution_count": 81,
   "metadata": {
    "_uuid": "650f1baa7db466923626c707408319fa29f22d10"
   },
   "outputs": [],
   "source": [
    "# https://stats.stackexchange.com/a/136542 helped a lot in avoiding overfitting\n",
    "\n",
    "model = Sequential()\n",
    "model.add(Dense(11,activation='relu',input_dim=13))\n",
    "model.add(Dense(1,activation='sigmoid'))\n",
    "\n",
    "model.compile(loss='binary_crossentropy',optimizer='adam',metrics=['accuracy'])"
   ]
  },
  {
   "cell_type": "code",
   "execution_count": 82,
   "metadata": {
    "_uuid": "dde4e50b5c4c24c73b03133fc7c90bf663fd6d82"
   },
   "outputs": [
    {
     "name": "stdout",
     "output_type": "stream",
     "text": [
      "Epoch 1/300\n",
      "8/8 [==============================] - 1s 3ms/step - loss: 63.9843 - accuracy: 0.5413\n",
      "Epoch 2/300\n",
      "8/8 [==============================] - 0s 3ms/step - loss: 57.4271 - accuracy: 0.5413\n",
      "Epoch 3/300\n",
      "8/8 [==============================] - 0s 2ms/step - loss: 50.7827 - accuracy: 0.5413\n",
      "Epoch 4/300\n",
      "8/8 [==============================] - 0s 5ms/step - loss: 44.1678 - accuracy: 0.5413\n",
      "Epoch 5/300\n",
      "8/8 [==============================] - 0s 3ms/step - loss: 37.1391 - accuracy: 0.5413\n",
      "Epoch 6/300\n",
      "8/8 [==============================] - 0s 4ms/step - loss: 30.0930 - accuracy: 0.5413\n",
      "Epoch 7/300\n",
      "8/8 [==============================] - 0s 4ms/step - loss: 22.5751 - accuracy: 0.5413\n",
      "Epoch 8/300\n",
      "8/8 [==============================] - 0s 4ms/step - loss: 14.1378 - accuracy: 0.5372\n",
      "Epoch 9/300\n",
      "8/8 [==============================] - 0s 4ms/step - loss: 6.5339 - accuracy: 0.5331\n",
      "Epoch 10/300\n",
      "8/8 [==============================] - 0s 5ms/step - loss: 5.5933 - accuracy: 0.4421\n",
      "Epoch 11/300\n",
      "8/8 [==============================] - 0s 3ms/step - loss: 5.5994 - accuracy: 0.4298\n",
      "Epoch 12/300\n",
      "8/8 [==============================] - 0s 4ms/step - loss: 4.7517 - accuracy: 0.4876\n",
      "Epoch 13/300\n",
      "8/8 [==============================] - 0s 2ms/step - loss: 4.7597 - accuracy: 0.4959\n",
      "Epoch 14/300\n",
      "8/8 [==============================] - 0s 2ms/step - loss: 4.5967 - accuracy: 0.5165\n",
      "Epoch 15/300\n",
      "8/8 [==============================] - 0s 4ms/step - loss: 4.4592 - accuracy: 0.4752\n",
      "Epoch 16/300\n",
      "8/8 [==============================] - 0s 5ms/step - loss: 4.4213 - accuracy: 0.4752\n",
      "Epoch 17/300\n",
      "8/8 [==============================] - 0s 4ms/step - loss: 4.3326 - accuracy: 0.4835\n",
      "Epoch 18/300\n",
      "8/8 [==============================] - 0s 2ms/step - loss: 4.2798 - accuracy: 0.5124\n",
      "Epoch 19/300\n",
      "8/8 [==============================] - 0s 5ms/step - loss: 4.1684 - accuracy: 0.4917\n",
      "Epoch 20/300\n",
      "8/8 [==============================] - 0s 2ms/step - loss: 4.1269 - accuracy: 0.4917\n",
      "Epoch 21/300\n",
      "8/8 [==============================] - 0s 4ms/step - loss: 4.0387 - accuracy: 0.5000\n",
      "Epoch 22/300\n",
      "8/8 [==============================] - 0s 7ms/step - loss: 4.0004 - accuracy: 0.4959\n",
      "Epoch 23/300\n",
      "8/8 [==============================] - 0s 3ms/step - loss: 3.9055 - accuracy: 0.5124\n",
      "Epoch 24/300\n",
      "8/8 [==============================] - 0s 6ms/step - loss: 3.8440 - accuracy: 0.5248\n",
      "Epoch 25/300\n",
      "8/8 [==============================] - 0s 2ms/step - loss: 3.7583 - accuracy: 0.5248\n",
      "Epoch 26/300\n",
      "8/8 [==============================] - 0s 9ms/step - loss: 3.6961 - accuracy: 0.5041\n",
      "Epoch 27/300\n",
      "8/8 [==============================] - 0s 3ms/step - loss: 3.6302 - accuracy: 0.5124\n",
      "Epoch 28/300\n",
      "8/8 [==============================] - 0s 4ms/step - loss: 3.5423 - accuracy: 0.5331\n",
      "Epoch 29/300\n",
      "8/8 [==============================] - 0s 4ms/step - loss: 3.4910 - accuracy: 0.5331\n",
      "Epoch 30/300\n",
      "8/8 [==============================] - 0s 8ms/step - loss: 3.4131 - accuracy: 0.5413\n",
      "Epoch 31/300\n",
      "8/8 [==============================] - 0s 3ms/step - loss: 3.3449 - accuracy: 0.5413\n",
      "Epoch 32/300\n",
      "8/8 [==============================] - 0s 2ms/step - loss: 3.3032 - accuracy: 0.5331\n",
      "Epoch 33/300\n",
      "8/8 [==============================] - 0s 3ms/step - loss: 3.2170 - accuracy: 0.5455\n",
      "Epoch 34/300\n",
      "8/8 [==============================] - 0s 2ms/step - loss: 3.1603 - accuracy: 0.5455\n",
      "Epoch 35/300\n",
      "8/8 [==============================] - 0s 5ms/step - loss: 3.0829 - accuracy: 0.5455\n",
      "Epoch 36/300\n",
      "8/8 [==============================] - 0s 7ms/step - loss: 3.0333 - accuracy: 0.5413\n",
      "Epoch 37/300\n",
      "8/8 [==============================] - 0s 4ms/step - loss: 2.9634 - accuracy: 0.5579\n",
      "Epoch 38/300\n",
      "8/8 [==============================] - 0s 10ms/step - loss: 2.8941 - accuracy: 0.5496\n",
      "Epoch 39/300\n",
      "8/8 [==============================] - 0s 3ms/step - loss: 2.8698 - accuracy: 0.5744\n",
      "Epoch 40/300\n",
      "8/8 [==============================] - 0s 9ms/step - loss: 2.7580 - accuracy: 0.5579\n",
      "Epoch 41/300\n",
      "8/8 [==============================] - 0s 3ms/step - loss: 2.7355 - accuracy: 0.5579\n",
      "Epoch 42/300\n",
      "8/8 [==============================] - 0s 2ms/step - loss: 2.6742 - accuracy: 0.5661\n",
      "Epoch 43/300\n",
      "8/8 [==============================] - 0s 2ms/step - loss: 2.6141 - accuracy: 0.5868\n",
      "Epoch 44/300\n",
      "8/8 [==============================] - 0s 10ms/step - loss: 2.5653 - accuracy: 0.5785\n",
      "Epoch 45/300\n",
      "8/8 [==============================] - 0s 2ms/step - loss: 2.4952 - accuracy: 0.5909\n",
      "Epoch 46/300\n",
      "8/8 [==============================] - 0s 2ms/step - loss: 2.4511 - accuracy: 0.5826\n",
      "Epoch 47/300\n",
      "8/8 [==============================] - 0s 7ms/step - loss: 2.3994 - accuracy: 0.5950\n",
      "Epoch 48/300\n",
      "8/8 [==============================] - 0s 2ms/step - loss: 2.3452 - accuracy: 0.5992\n",
      "Epoch 49/300\n",
      "8/8 [==============================] - 0s 10ms/step - loss: 2.3055 - accuracy: 0.6074\n",
      "Epoch 50/300\n",
      "8/8 [==============================] - 0s 3ms/step - loss: 2.2601 - accuracy: 0.6116\n",
      "Epoch 51/300\n",
      "8/8 [==============================] - 0s 13ms/step - loss: 2.2121 - accuracy: 0.6074\n",
      "Epoch 52/300\n",
      "8/8 [==============================] - 0s 6ms/step - loss: 2.1571 - accuracy: 0.6074\n",
      "Epoch 53/300\n",
      "8/8 [==============================] - 0s 3ms/step - loss: 2.1044 - accuracy: 0.6033\n",
      "Epoch 54/300\n",
      "8/8 [==============================] - 0s 3ms/step - loss: 2.0931 - accuracy: 0.6033\n",
      "Epoch 55/300\n",
      "8/8 [==============================] - 0s 3ms/step - loss: 2.0211 - accuracy: 0.6198\n",
      "Epoch 56/300\n",
      "8/8 [==============================] - 0s 7ms/step - loss: 1.9894 - accuracy: 0.6322\n",
      "Epoch 57/300\n",
      "8/8 [==============================] - 0s 3ms/step - loss: 1.9395 - accuracy: 0.6364\n",
      "Epoch 58/300\n",
      "8/8 [==============================] - 0s 2ms/step - loss: 1.8971 - accuracy: 0.6240\n",
      "Epoch 59/300\n",
      "8/8 [==============================] - 0s 4ms/step - loss: 1.8567 - accuracy: 0.6281\n",
      "Epoch 60/300\n",
      "8/8 [==============================] - 0s 4ms/step - loss: 1.8201 - accuracy: 0.6364\n",
      "Epoch 61/300\n",
      "8/8 [==============================] - 0s 3ms/step - loss: 1.7876 - accuracy: 0.6446\n",
      "Epoch 62/300\n",
      "8/8 [==============================] - 0s 3ms/step - loss: 1.7415 - accuracy: 0.6405\n",
      "Epoch 63/300\n",
      "8/8 [==============================] - 0s 2ms/step - loss: 1.7141 - accuracy: 0.6198\n",
      "Epoch 64/300\n",
      "8/8 [==============================] - 0s 2ms/step - loss: 1.7000 - accuracy: 0.6529\n",
      "Epoch 65/300\n",
      "8/8 [==============================] - 0s 4ms/step - loss: 1.6906 - accuracy: 0.6446\n",
      "Epoch 66/300\n",
      "8/8 [==============================] - 0s 4ms/step - loss: 1.6124 - accuracy: 0.6529\n",
      "Epoch 67/300\n",
      "8/8 [==============================] - 0s 3ms/step - loss: 1.6142 - accuracy: 0.6446\n",
      "Epoch 68/300\n",
      "8/8 [==============================] - 0s 4ms/step - loss: 1.5338 - accuracy: 0.6488\n",
      "Epoch 69/300\n",
      "8/8 [==============================] - 0s 2ms/step - loss: 1.5241 - accuracy: 0.6446\n",
      "Epoch 70/300\n",
      "8/8 [==============================] - 0s 6ms/step - loss: 1.4760 - accuracy: 0.6446\n",
      "Epoch 71/300\n",
      "8/8 [==============================] - 0s 3ms/step - loss: 1.4622 - accuracy: 0.6612\n",
      "Epoch 72/300\n",
      "8/8 [==============================] - 0s 5ms/step - loss: 1.4361 - accuracy: 0.6405\n",
      "Epoch 73/300\n",
      "8/8 [==============================] - 0s 3ms/step - loss: 1.3889 - accuracy: 0.6653\n",
      "Epoch 74/300\n",
      "8/8 [==============================] - 0s 3ms/step - loss: 1.3715 - accuracy: 0.6694\n",
      "Epoch 75/300\n",
      "8/8 [==============================] - 0s 3ms/step - loss: 1.3396 - accuracy: 0.6694\n",
      "Epoch 76/300\n",
      "8/8 [==============================] - 0s 7ms/step - loss: 1.3213 - accuracy: 0.6570\n",
      "Epoch 77/300\n",
      "8/8 [==============================] - 0s 4ms/step - loss: 1.2971 - accuracy: 0.6653\n",
      "Epoch 78/300\n",
      "8/8 [==============================] - 0s 11ms/step - loss: 1.2687 - accuracy: 0.6694\n",
      "Epoch 79/300\n",
      "8/8 [==============================] - 0s 3ms/step - loss: 1.2505 - accuracy: 0.6736\n",
      "Epoch 80/300\n",
      "8/8 [==============================] - 0s 6ms/step - loss: 1.2127 - accuracy: 0.6818\n",
      "Epoch 81/300\n",
      "8/8 [==============================] - 0s 3ms/step - loss: 1.1892 - accuracy: 0.6860\n",
      "Epoch 82/300\n",
      "8/8 [==============================] - 0s 2ms/step - loss: 1.1749 - accuracy: 0.6736\n",
      "Epoch 83/300\n",
      "8/8 [==============================] - 0s 3ms/step - loss: 1.1547 - accuracy: 0.6818\n",
      "Epoch 84/300\n"
     ]
    },
    {
     "name": "stdout",
     "output_type": "stream",
     "text": [
      "8/8 [==============================] - 0s 2ms/step - loss: 1.1326 - accuracy: 0.7025\n",
      "Epoch 85/300\n",
      "8/8 [==============================] - 0s 6ms/step - loss: 1.1195 - accuracy: 0.6942\n",
      "Epoch 86/300\n",
      "8/8 [==============================] - 0s 3ms/step - loss: 1.0858 - accuracy: 0.6942\n",
      "Epoch 87/300\n",
      "8/8 [==============================] - 0s 4ms/step - loss: 1.1036 - accuracy: 0.6818\n",
      "Epoch 88/300\n",
      "8/8 [==============================] - 0s 3ms/step - loss: 1.0325 - accuracy: 0.7190\n",
      "Epoch 89/300\n",
      "8/8 [==============================] - 0s 3ms/step - loss: 1.0394 - accuracy: 0.7025\n",
      "Epoch 90/300\n",
      "8/8 [==============================] - 0s 2ms/step - loss: 1.0166 - accuracy: 0.7231\n",
      "Epoch 91/300\n",
      "8/8 [==============================] - 0s 2ms/step - loss: 0.9862 - accuracy: 0.7066\n",
      "Epoch 92/300\n",
      "8/8 [==============================] - 0s 4ms/step - loss: 0.9712 - accuracy: 0.7149\n",
      "Epoch 93/300\n",
      "8/8 [==============================] - 0s 5ms/step - loss: 0.9520 - accuracy: 0.7231\n",
      "Epoch 94/300\n",
      "8/8 [==============================] - 0s 3ms/step - loss: 0.9366 - accuracy: 0.7231\n",
      "Epoch 95/300\n",
      "8/8 [==============================] - 0s 3ms/step - loss: 0.9382 - accuracy: 0.7355\n",
      "Epoch 96/300\n",
      "8/8 [==============================] - 0s 2ms/step - loss: 0.9338 - accuracy: 0.7273\n",
      "Epoch 97/300\n",
      "8/8 [==============================] - 0s 2ms/step - loss: 0.8917 - accuracy: 0.7231\n",
      "Epoch 98/300\n",
      "8/8 [==============================] - 0s 3ms/step - loss: 0.8792 - accuracy: 0.7355\n",
      "Epoch 99/300\n",
      "8/8 [==============================] - 0s 3ms/step - loss: 0.8544 - accuracy: 0.7231\n",
      "Epoch 100/300\n",
      "8/8 [==============================] - 0s 4ms/step - loss: 0.8447 - accuracy: 0.7438\n",
      "Epoch 101/300\n",
      "8/8 [==============================] - 0s 3ms/step - loss: 0.8254 - accuracy: 0.7397\n",
      "Epoch 102/300\n",
      "8/8 [==============================] - 0s 4ms/step - loss: 0.8105 - accuracy: 0.7397\n",
      "Epoch 103/300\n",
      "8/8 [==============================] - 0s 2ms/step - loss: 0.7973 - accuracy: 0.7479\n",
      "Epoch 104/300\n",
      "8/8 [==============================] - 0s 4ms/step - loss: 0.7925 - accuracy: 0.7479\n",
      "Epoch 105/300\n",
      "8/8 [==============================] - 0s 5ms/step - loss: 0.7839 - accuracy: 0.7521\n",
      "Epoch 106/300\n",
      "8/8 [==============================] - 0s 6ms/step - loss: 0.7617 - accuracy: 0.7479\n",
      "Epoch 107/300\n",
      "8/8 [==============================] - 0s 4ms/step - loss: 0.7523 - accuracy: 0.7355\n",
      "Epoch 108/300\n",
      "8/8 [==============================] - 0s 3ms/step - loss: 0.7441 - accuracy: 0.7603\n",
      "Epoch 109/300\n",
      "8/8 [==============================] - 0s 4ms/step - loss: 0.7189 - accuracy: 0.7645\n",
      "Epoch 110/300\n",
      "8/8 [==============================] - 0s 4ms/step - loss: 0.7224 - accuracy: 0.7479\n",
      "Epoch 111/300\n",
      "8/8 [==============================] - 0s 5ms/step - loss: 0.7299 - accuracy: 0.7603\n",
      "Epoch 112/300\n",
      "8/8 [==============================] - 0s 4ms/step - loss: 0.6867 - accuracy: 0.7727\n",
      "Epoch 113/300\n",
      "8/8 [==============================] - 0s 3ms/step - loss: 0.6701 - accuracy: 0.7769\n",
      "Epoch 114/300\n",
      "8/8 [==============================] - 0s 4ms/step - loss: 0.6812 - accuracy: 0.7645\n",
      "Epoch 115/300\n",
      "8/8 [==============================] - 0s 3ms/step - loss: 0.6925 - accuracy: 0.7438\n",
      "Epoch 116/300\n",
      "8/8 [==============================] - 0s 7ms/step - loss: 0.6814 - accuracy: 0.7769\n",
      "Epoch 117/300\n",
      "8/8 [==============================] - 0s 3ms/step - loss: 0.6460 - accuracy: 0.7851\n",
      "Epoch 118/300\n",
      "8/8 [==============================] - 0s 5ms/step - loss: 0.6781 - accuracy: 0.7521\n",
      "Epoch 119/300\n",
      "8/8 [==============================] - 0s 5ms/step - loss: 0.6455 - accuracy: 0.7562\n",
      "Epoch 120/300\n",
      "8/8 [==============================] - 0s 3ms/step - loss: 0.6069 - accuracy: 0.7851\n",
      "Epoch 121/300\n",
      "8/8 [==============================] - 0s 3ms/step - loss: 0.6012 - accuracy: 0.7851\n",
      "Epoch 122/300\n",
      "8/8 [==============================] - 0s 5ms/step - loss: 0.5938 - accuracy: 0.8017\n",
      "Epoch 123/300\n",
      "8/8 [==============================] - 0s 3ms/step - loss: 0.5842 - accuracy: 0.7934\n",
      "Epoch 124/300\n",
      "8/8 [==============================] - 0s 5ms/step - loss: 0.5755 - accuracy: 0.7934\n",
      "Epoch 125/300\n",
      "8/8 [==============================] - 0s 3ms/step - loss: 0.5865 - accuracy: 0.7893\n",
      "Epoch 126/300\n",
      "8/8 [==============================] - 0s 3ms/step - loss: 0.5624 - accuracy: 0.7934\n",
      "Epoch 127/300\n",
      "8/8 [==============================] - 0s 2ms/step - loss: 0.5601 - accuracy: 0.7934\n",
      "Epoch 128/300\n",
      "8/8 [==============================] - 0s 3ms/step - loss: 0.5599 - accuracy: 0.8058\n",
      "Epoch 129/300\n",
      "8/8 [==============================] - 0s 2ms/step - loss: 0.5825 - accuracy: 0.7851\n",
      "Epoch 130/300\n",
      "8/8 [==============================] - 0s 4ms/step - loss: 0.5417 - accuracy: 0.8058\n",
      "Epoch 131/300\n",
      "8/8 [==============================] - 0s 3ms/step - loss: 0.5298 - accuracy: 0.7975\n",
      "Epoch 132/300\n",
      "8/8 [==============================] - 0s 4ms/step - loss: 0.5236 - accuracy: 0.8058\n",
      "Epoch 133/300\n",
      "8/8 [==============================] - 0s 2ms/step - loss: 0.5169 - accuracy: 0.7975\n",
      "Epoch 134/300\n",
      "8/8 [==============================] - 0s 4ms/step - loss: 0.5163 - accuracy: 0.8099\n",
      "Epoch 135/300\n",
      "8/8 [==============================] - 0s 4ms/step - loss: 0.5200 - accuracy: 0.7934\n",
      "Epoch 136/300\n",
      "8/8 [==============================] - 0s 6ms/step - loss: 0.5208 - accuracy: 0.7851\n",
      "Epoch 137/300\n",
      "8/8 [==============================] - 0s 5ms/step - loss: 0.4977 - accuracy: 0.8058\n",
      "Epoch 138/300\n",
      "8/8 [==============================] - 0s 7ms/step - loss: 0.4903 - accuracy: 0.8058\n",
      "Epoch 139/300\n",
      "8/8 [==============================] - 0s 3ms/step - loss: 0.4896 - accuracy: 0.8099\n",
      "Epoch 140/300\n",
      "8/8 [==============================] - 0s 5ms/step - loss: 0.4946 - accuracy: 0.8099\n",
      "Epoch 141/300\n",
      "8/8 [==============================] - 0s 3ms/step - loss: 0.4771 - accuracy: 0.8140\n",
      "Epoch 142/300\n",
      "8/8 [==============================] - 0s 3ms/step - loss: 0.4876 - accuracy: 0.8017\n",
      "Epoch 143/300\n",
      "8/8 [==============================] - 0s 2ms/step - loss: 0.4760 - accuracy: 0.8017\n",
      "Epoch 144/300\n",
      "8/8 [==============================] - 0s 3ms/step - loss: 0.4705 - accuracy: 0.8099\n",
      "Epoch 145/300\n",
      "8/8 [==============================] - 0s 4ms/step - loss: 0.4613 - accuracy: 0.8223\n",
      "Epoch 146/300\n",
      "8/8 [==============================] - 0s 4ms/step - loss: 0.4585 - accuracy: 0.8182\n",
      "Epoch 147/300\n",
      "8/8 [==============================] - 0s 4ms/step - loss: 0.4831 - accuracy: 0.8017\n",
      "Epoch 148/300\n",
      "8/8 [==============================] - 0s 6ms/step - loss: 0.4793 - accuracy: 0.7975\n",
      "Epoch 149/300\n",
      "8/8 [==============================] - 0s 2ms/step - loss: 0.4493 - accuracy: 0.8099\n",
      "Epoch 150/300\n",
      "8/8 [==============================] - 0s 4ms/step - loss: 0.4426 - accuracy: 0.8182\n",
      "Epoch 151/300\n",
      "8/8 [==============================] - 0s 3ms/step - loss: 0.4712 - accuracy: 0.8140\n",
      "Epoch 152/300\n",
      "8/8 [==============================] - 0s 2ms/step - loss: 0.4517 - accuracy: 0.8182\n",
      "Epoch 153/300\n",
      "8/8 [==============================] - 0s 3ms/step - loss: 0.4425 - accuracy: 0.8223\n",
      "Epoch 154/300\n",
      "8/8 [==============================] - 0s 3ms/step - loss: 0.4464 - accuracy: 0.8099\n",
      "Epoch 155/300\n",
      "8/8 [==============================] - 0s 9ms/step - loss: 0.4335 - accuracy: 0.8058\n",
      "Epoch 156/300\n",
      "8/8 [==============================] - 0s 2ms/step - loss: 0.4353 - accuracy: 0.8140\n",
      "Epoch 157/300\n",
      "8/8 [==============================] - 0s 4ms/step - loss: 0.4296 - accuracy: 0.8223\n",
      "Epoch 158/300\n",
      "8/8 [==============================] - 0s 2ms/step - loss: 0.4388 - accuracy: 0.8058\n",
      "Epoch 159/300\n",
      "8/8 [==============================] - 0s 4ms/step - loss: 0.4313 - accuracy: 0.8182\n",
      "Epoch 160/300\n",
      "8/8 [==============================] - 0s 3ms/step - loss: 0.4311 - accuracy: 0.8347\n",
      "Epoch 161/300\n",
      "8/8 [==============================] - 0s 2ms/step - loss: 0.4154 - accuracy: 0.8099\n",
      "Epoch 162/300\n",
      "8/8 [==============================] - 0s 3ms/step - loss: 0.4205 - accuracy: 0.8223\n",
      "Epoch 163/300\n",
      "8/8 [==============================] - 0s 3ms/step - loss: 0.4292 - accuracy: 0.8140\n",
      "Epoch 164/300\n",
      "8/8 [==============================] - 0s 4ms/step - loss: 0.4137 - accuracy: 0.8347\n",
      "Epoch 165/300\n",
      "8/8 [==============================] - 0s 3ms/step - loss: 0.4112 - accuracy: 0.8223\n",
      "Epoch 166/300\n",
      "8/8 [==============================] - 0s 4ms/step - loss: 0.4190 - accuracy: 0.8140\n",
      "Epoch 167/300\n"
     ]
    },
    {
     "name": "stdout",
     "output_type": "stream",
     "text": [
      "8/8 [==============================] - 0s 3ms/step - loss: 0.4233 - accuracy: 0.8099\n",
      "Epoch 168/300\n",
      "8/8 [==============================] - 0s 7ms/step - loss: 0.4141 - accuracy: 0.8223\n",
      "Epoch 169/300\n",
      "8/8 [==============================] - 0s 3ms/step - loss: 0.4107 - accuracy: 0.8347\n",
      "Epoch 170/300\n",
      "8/8 [==============================] - 0s 4ms/step - loss: 0.4678 - accuracy: 0.7893\n",
      "Epoch 171/300\n",
      "8/8 [==============================] - 0s 4ms/step - loss: 0.4650 - accuracy: 0.7893\n",
      "Epoch 172/300\n",
      "8/8 [==============================] - 0s 4ms/step - loss: 0.4116 - accuracy: 0.8347\n",
      "Epoch 173/300\n",
      "8/8 [==============================] - 0s 2ms/step - loss: 0.3973 - accuracy: 0.8306\n",
      "Epoch 174/300\n",
      "8/8 [==============================] - 0s 4ms/step - loss: 0.4156 - accuracy: 0.8017\n",
      "Epoch 175/300\n",
      "8/8 [==============================] - 0s 3ms/step - loss: 0.4006 - accuracy: 0.8264\n",
      "Epoch 176/300\n",
      "8/8 [==============================] - 0s 3ms/step - loss: 0.4235 - accuracy: 0.8223\n",
      "Epoch 177/300\n",
      "8/8 [==============================] - 0s 4ms/step - loss: 0.4005 - accuracy: 0.8471\n",
      "Epoch 178/300\n",
      "8/8 [==============================] - 0s 4ms/step - loss: 0.4086 - accuracy: 0.8182\n",
      "Epoch 179/300\n",
      "8/8 [==============================] - 0s 2ms/step - loss: 0.3953 - accuracy: 0.8388\n",
      "Epoch 180/300\n",
      "8/8 [==============================] - 0s 2ms/step - loss: 0.3927 - accuracy: 0.8388\n",
      "Epoch 181/300\n",
      "8/8 [==============================] - 0s 3ms/step - loss: 0.3896 - accuracy: 0.8430\n",
      "Epoch 182/300\n",
      "8/8 [==============================] - 0s 3ms/step - loss: 0.4040 - accuracy: 0.8512\n",
      "Epoch 183/300\n",
      "8/8 [==============================] - 0s 7ms/step - loss: 0.3999 - accuracy: 0.8347\n",
      "Epoch 184/300\n",
      "8/8 [==============================] - 0s 3ms/step - loss: 0.3870 - accuracy: 0.8388\n",
      "Epoch 185/300\n",
      "8/8 [==============================] - 0s 4ms/step - loss: 0.4045 - accuracy: 0.8306\n",
      "Epoch 186/300\n",
      "8/8 [==============================] - 0s 2ms/step - loss: 0.3837 - accuracy: 0.8347\n",
      "Epoch 187/300\n",
      "8/8 [==============================] - 0s 2ms/step - loss: 0.3872 - accuracy: 0.8388\n",
      "Epoch 188/300\n",
      "8/8 [==============================] - 0s 3ms/step - loss: 0.4014 - accuracy: 0.8430\n",
      "Epoch 189/300\n",
      "8/8 [==============================] - 0s 3ms/step - loss: 0.3792 - accuracy: 0.8306\n",
      "Epoch 190/300\n",
      "8/8 [==============================] - 0s 3ms/step - loss: 0.3764 - accuracy: 0.8512\n",
      "Epoch 191/300\n",
      "8/8 [==============================] - 0s 3ms/step - loss: 0.3901 - accuracy: 0.8264\n",
      "Epoch 192/300\n",
      "8/8 [==============================] - 0s 4ms/step - loss: 0.3830 - accuracy: 0.8512\n",
      "Epoch 193/300\n",
      "8/8 [==============================] - 0s 2ms/step - loss: 0.3715 - accuracy: 0.8388\n",
      "Epoch 194/300\n",
      "8/8 [==============================] - 0s 4ms/step - loss: 0.3728 - accuracy: 0.8512\n",
      "Epoch 195/300\n",
      "8/8 [==============================] - 0s 4ms/step - loss: 0.3739 - accuracy: 0.8430\n",
      "Epoch 196/300\n",
      "8/8 [==============================] - 0s 4ms/step - loss: 0.3737 - accuracy: 0.8430\n",
      "Epoch 197/300\n",
      "8/8 [==============================] - 0s 3ms/step - loss: 0.3781 - accuracy: 0.8430\n",
      "Epoch 198/300\n",
      "8/8 [==============================] - 0s 5ms/step - loss: 0.3709 - accuracy: 0.8636\n",
      "Epoch 199/300\n",
      "8/8 [==============================] - 0s 3ms/step - loss: 0.3717 - accuracy: 0.8471\n",
      "Epoch 200/300\n",
      "8/8 [==============================] - 0s 3ms/step - loss: 0.3747 - accuracy: 0.8430\n",
      "Epoch 201/300\n",
      "8/8 [==============================] - 0s 4ms/step - loss: 0.3703 - accuracy: 0.8595\n",
      "Epoch 202/300\n",
      "8/8 [==============================] - 0s 3ms/step - loss: 0.3690 - accuracy: 0.8471\n",
      "Epoch 203/300\n",
      "8/8 [==============================] - 0s 3ms/step - loss: 0.3661 - accuracy: 0.8471\n",
      "Epoch 204/300\n",
      "8/8 [==============================] - 0s 3ms/step - loss: 0.3759 - accuracy: 0.8306\n",
      "Epoch 205/300\n",
      "8/8 [==============================] - 0s 7ms/step - loss: 0.3647 - accuracy: 0.8554\n",
      "Epoch 206/300\n",
      "8/8 [==============================] - 0s 3ms/step - loss: 0.3793 - accuracy: 0.8595\n",
      "Epoch 207/300\n",
      "8/8 [==============================] - 0s 4ms/step - loss: 0.3649 - accuracy: 0.8554\n",
      "Epoch 208/300\n",
      "8/8 [==============================] - 0s 3ms/step - loss: 0.3621 - accuracy: 0.8554\n",
      "Epoch 209/300\n",
      "8/8 [==============================] - 0s 2ms/step - loss: 0.3698 - accuracy: 0.8388\n",
      "Epoch 210/300\n",
      "8/8 [==============================] - 0s 3ms/step - loss: 0.3724 - accuracy: 0.8388\n",
      "Epoch 211/300\n",
      "8/8 [==============================] - 0s 3ms/step - loss: 0.3640 - accuracy: 0.8388\n",
      "Epoch 212/300\n",
      "8/8 [==============================] - 0s 2ms/step - loss: 0.3621 - accuracy: 0.8554\n",
      "Epoch 213/300\n",
      "8/8 [==============================] - 0s 2ms/step - loss: 0.3833 - accuracy: 0.8388\n",
      "Epoch 214/300\n",
      "8/8 [==============================] - 0s 4ms/step - loss: 0.3957 - accuracy: 0.8223\n",
      "Epoch 215/300\n",
      "8/8 [==============================] - 0s 3ms/step - loss: 0.3623 - accuracy: 0.8388\n",
      "Epoch 216/300\n",
      "8/8 [==============================] - 0s 3ms/step - loss: 0.3929 - accuracy: 0.8512\n",
      "Epoch 217/300\n",
      "8/8 [==============================] - 0s 3ms/step - loss: 0.4073 - accuracy: 0.8430\n",
      "Epoch 218/300\n",
      "8/8 [==============================] - 0s 3ms/step - loss: 0.3983 - accuracy: 0.8388\n",
      "Epoch 219/300\n",
      "8/8 [==============================] - 0s 3ms/step - loss: 0.3708 - accuracy: 0.8471\n",
      "Epoch 220/300\n",
      "8/8 [==============================] - 0s 2ms/step - loss: 0.3582 - accuracy: 0.8512\n",
      "Epoch 221/300\n",
      "8/8 [==============================] - 0s 3ms/step - loss: 0.3643 - accuracy: 0.8430\n",
      "Epoch 222/300\n",
      "8/8 [==============================] - 0s 4ms/step - loss: 0.4089 - accuracy: 0.8347\n",
      "Epoch 223/300\n",
      "8/8 [==============================] - 0s 3ms/step - loss: 0.3534 - accuracy: 0.8512\n",
      "Epoch 224/300\n",
      "8/8 [==============================] - 0s 2ms/step - loss: 0.3573 - accuracy: 0.8512\n",
      "Epoch 225/300\n",
      "8/8 [==============================] - 0s 4ms/step - loss: 0.3541 - accuracy: 0.8595\n",
      "Epoch 226/300\n",
      "8/8 [==============================] - 0s 3ms/step - loss: 0.3730 - accuracy: 0.8347\n",
      "Epoch 227/300\n",
      "8/8 [==============================] - 0s 2ms/step - loss: 0.3842 - accuracy: 0.8347\n",
      "Epoch 228/300\n",
      "8/8 [==============================] - 0s 3ms/step - loss: 0.3889 - accuracy: 0.8223\n",
      "Epoch 229/300\n",
      "8/8 [==============================] - 0s 4ms/step - loss: 0.3824 - accuracy: 0.8264\n",
      "Epoch 230/300\n",
      "8/8 [==============================] - 0s 2ms/step - loss: 0.3800 - accuracy: 0.8347\n",
      "Epoch 231/300\n",
      "8/8 [==============================] - 0s 3ms/step - loss: 0.3757 - accuracy: 0.8388\n",
      "Epoch 232/300\n",
      "8/8 [==============================] - 0s 4ms/step - loss: 0.3551 - accuracy: 0.8678\n",
      "Epoch 233/300\n",
      "8/8 [==============================] - 0s 3ms/step - loss: 0.3487 - accuracy: 0.8678\n",
      "Epoch 234/300\n",
      "8/8 [==============================] - 0s 3ms/step - loss: 0.3583 - accuracy: 0.8471\n",
      "Epoch 235/300\n",
      "8/8 [==============================] - 0s 4ms/step - loss: 0.3753 - accuracy: 0.8347\n",
      "Epoch 236/300\n",
      "8/8 [==============================] - 0s 4ms/step - loss: 0.3743 - accuracy: 0.8430\n",
      "Epoch 237/300\n",
      "8/8 [==============================] - 0s 2ms/step - loss: 0.3640 - accuracy: 0.8471\n",
      "Epoch 238/300\n",
      "8/8 [==============================] - 0s 2ms/step - loss: 0.3874 - accuracy: 0.8388\n",
      "Epoch 239/300\n",
      "8/8 [==============================] - 0s 3ms/step - loss: 0.3849 - accuracy: 0.8347\n",
      "Epoch 240/300\n",
      "8/8 [==============================] - 0s 3ms/step - loss: 0.3640 - accuracy: 0.8388\n",
      "Epoch 241/300\n",
      "8/8 [==============================] - 0s 3ms/step - loss: 0.3555 - accuracy: 0.8595\n",
      "Epoch 242/300\n",
      "8/8 [==============================] - 0s 3ms/step - loss: 0.3584 - accuracy: 0.8636\n",
      "Epoch 243/300\n",
      "8/8 [==============================] - 0s 5ms/step - loss: 0.3511 - accuracy: 0.8678\n",
      "Epoch 244/300\n",
      "8/8 [==============================] - 0s 3ms/step - loss: 0.3672 - accuracy: 0.8388\n",
      "Epoch 245/300\n",
      "8/8 [==============================] - 0s 4ms/step - loss: 0.3673 - accuracy: 0.8595\n",
      "Epoch 246/300\n",
      "8/8 [==============================] - 0s 3ms/step - loss: 0.3703 - accuracy: 0.8636\n",
      "Epoch 247/300\n",
      "8/8 [==============================] - 0s 3ms/step - loss: 0.3579 - accuracy: 0.8595\n",
      "Epoch 248/300\n",
      "8/8 [==============================] - 0s 2ms/step - loss: 0.3515 - accuracy: 0.8595\n",
      "Epoch 249/300\n"
     ]
    },
    {
     "name": "stdout",
     "output_type": "stream",
     "text": [
      "8/8 [==============================] - 0s 5ms/step - loss: 0.3513 - accuracy: 0.8636\n",
      "Epoch 250/300\n",
      "8/8 [==============================] - 0s 3ms/step - loss: 0.3540 - accuracy: 0.8554\n",
      "Epoch 251/300\n",
      "8/8 [==============================] - 0s 3ms/step - loss: 0.3667 - accuracy: 0.8512\n",
      "Epoch 252/300\n",
      "8/8 [==============================] - 0s 3ms/step - loss: 0.3564 - accuracy: 0.8554\n",
      "Epoch 253/300\n",
      "8/8 [==============================] - 0s 4ms/step - loss: 0.3880 - accuracy: 0.8554\n",
      "Epoch 254/300\n",
      "8/8 [==============================] - 0s 2ms/step - loss: 0.3761 - accuracy: 0.8430\n",
      "Epoch 255/300\n",
      "8/8 [==============================] - 0s 2ms/step - loss: 0.3743 - accuracy: 0.8430\n",
      "Epoch 256/300\n",
      "8/8 [==============================] - 0s 4ms/step - loss: 0.3730 - accuracy: 0.8471\n",
      "Epoch 257/300\n",
      "8/8 [==============================] - 0s 3ms/step - loss: 0.3781 - accuracy: 0.8182\n",
      "Epoch 258/300\n",
      "8/8 [==============================] - 0s 4ms/step - loss: 0.4542 - accuracy: 0.8306\n",
      "Epoch 259/300\n",
      "8/8 [==============================] - 0s 3ms/step - loss: 0.3798 - accuracy: 0.8264\n",
      "Epoch 260/300\n",
      "8/8 [==============================] - 0s 5ms/step - loss: 0.3655 - accuracy: 0.8347\n",
      "Epoch 261/300\n",
      "8/8 [==============================] - 0s 2ms/step - loss: 0.3817 - accuracy: 0.8306\n",
      "Epoch 262/300\n",
      "8/8 [==============================] - 0s 3ms/step - loss: 0.3539 - accuracy: 0.8347\n",
      "Epoch 263/300\n",
      "8/8 [==============================] - 0s 4ms/step - loss: 0.4294 - accuracy: 0.8430\n",
      "Epoch 264/300\n",
      "8/8 [==============================] - 0s 4ms/step - loss: 0.3809 - accuracy: 0.8099\n",
      "Epoch 265/300\n",
      "8/8 [==============================] - 0s 4ms/step - loss: 0.3927 - accuracy: 0.8471\n",
      "Epoch 266/300\n",
      "8/8 [==============================] - 0s 5ms/step - loss: 0.3611 - accuracy: 0.8388\n",
      "Epoch 267/300\n",
      "8/8 [==============================] - 0s 2ms/step - loss: 0.3520 - accuracy: 0.8595\n",
      "Epoch 268/300\n",
      "8/8 [==============================] - 0s 4ms/step - loss: 0.3465 - accuracy: 0.8636\n",
      "Epoch 269/300\n",
      "8/8 [==============================] - 0s 3ms/step - loss: 0.3503 - accuracy: 0.8595\n",
      "Epoch 270/300\n",
      "8/8 [==============================] - 0s 3ms/step - loss: 0.3721 - accuracy: 0.8471\n",
      "Epoch 271/300\n",
      "8/8 [==============================] - 0s 4ms/step - loss: 0.3727 - accuracy: 0.8471\n",
      "Epoch 272/300\n",
      "8/8 [==============================] - 0s 3ms/step - loss: 0.3570 - accuracy: 0.8636\n",
      "Epoch 273/300\n",
      "8/8 [==============================] - 0s 6ms/step - loss: 0.3564 - accuracy: 0.8554\n",
      "Epoch 274/300\n",
      "8/8 [==============================] - 0s 5ms/step - loss: 0.3504 - accuracy: 0.8512\n",
      "Epoch 275/300\n",
      "8/8 [==============================] - 0s 3ms/step - loss: 0.3502 - accuracy: 0.8636\n",
      "Epoch 276/300\n",
      "8/8 [==============================] - 0s 5ms/step - loss: 0.3530 - accuracy: 0.8554\n",
      "Epoch 277/300\n",
      "8/8 [==============================] - 0s 7ms/step - loss: 0.3663 - accuracy: 0.8471\n",
      "Epoch 278/300\n",
      "8/8 [==============================] - 0s 3ms/step - loss: 0.3896 - accuracy: 0.8388\n",
      "Epoch 279/300\n",
      "8/8 [==============================] - 0s 3ms/step - loss: 0.3856 - accuracy: 0.8430\n",
      "Epoch 280/300\n",
      "8/8 [==============================] - 0s 3ms/step - loss: 0.3869 - accuracy: 0.8182\n",
      "Epoch 281/300\n",
      "8/8 [==============================] - 0s 3ms/step - loss: 0.3830 - accuracy: 0.8347\n",
      "Epoch 282/300\n",
      "8/8 [==============================] - 0s 3ms/step - loss: 0.3455 - accuracy: 0.8636\n",
      "Epoch 283/300\n",
      "8/8 [==============================] - 0s 4ms/step - loss: 0.3484 - accuracy: 0.8388\n",
      "Epoch 284/300\n",
      "8/8 [==============================] - 0s 3ms/step - loss: 0.3816 - accuracy: 0.8264\n",
      "Epoch 285/300\n",
      "8/8 [==============================] - 0s 3ms/step - loss: 0.3572 - accuracy: 0.8430\n",
      "Epoch 286/300\n",
      "8/8 [==============================] - 0s 3ms/step - loss: 0.3732 - accuracy: 0.8388\n",
      "Epoch 287/300\n",
      "8/8 [==============================] - 0s 4ms/step - loss: 0.3928 - accuracy: 0.8388\n",
      "Epoch 288/300\n",
      "8/8 [==============================] - 0s 4ms/step - loss: 0.3711 - accuracy: 0.8388\n",
      "Epoch 289/300\n",
      "8/8 [==============================] - 0s 3ms/step - loss: 0.3525 - accuracy: 0.8595\n",
      "Epoch 290/300\n",
      "8/8 [==============================] - 0s 4ms/step - loss: 0.3581 - accuracy: 0.8595\n",
      "Epoch 291/300\n",
      "8/8 [==============================] - 0s 3ms/step - loss: 0.3602 - accuracy: 0.8512\n",
      "Epoch 292/300\n",
      "8/8 [==============================] - 0s 5ms/step - loss: 0.3735 - accuracy: 0.8471\n",
      "Epoch 293/300\n",
      "8/8 [==============================] - 0s 5ms/step - loss: 0.4209 - accuracy: 0.8388\n",
      "Epoch 294/300\n",
      "8/8 [==============================] - 0s 4ms/step - loss: 0.4049 - accuracy: 0.8058\n",
      "Epoch 295/300\n",
      "8/8 [==============================] - 0s 3ms/step - loss: 0.4661 - accuracy: 0.7686\n",
      "Epoch 296/300\n",
      "8/8 [==============================] - 0s 2ms/step - loss: 0.3803 - accuracy: 0.8306\n",
      "Epoch 297/300\n",
      "8/8 [==============================] - 0s 3ms/step - loss: 0.3463 - accuracy: 0.8595\n",
      "Epoch 298/300\n",
      "8/8 [==============================] - 0s 2ms/step - loss: 0.3539 - accuracy: 0.8306\n",
      "Epoch 299/300\n",
      "8/8 [==============================] - 0s 2ms/step - loss: 0.3984 - accuracy: 0.8388\n",
      "Epoch 300/300\n",
      "8/8 [==============================] - 0s 2ms/step - loss: 0.3553 - accuracy: 0.8636\n"
     ]
    },
    {
     "data": {
      "text/plain": [
       "<keras.callbacks.History at 0x1801c5b8880>"
      ]
     },
     "execution_count": 82,
     "metadata": {},
     "output_type": "execute_result"
    }
   ],
   "source": [
    "model.fit(X_train,Y_train,epochs=300)"
   ]
  },
  {
   "cell_type": "code",
   "execution_count": 83,
   "metadata": {
    "_uuid": "c844af4f00d40c4cce4c4e5a9a01c9a892e9533d"
   },
   "outputs": [
    {
     "name": "stdout",
     "output_type": "stream",
     "text": [
      "2/2 [==============================] - 0s 3ms/step\n"
     ]
    }
   ],
   "source": [
    "Y_pred_nn = model.predict(X_test)"
   ]
  },
  {
   "cell_type": "code",
   "execution_count": 84,
   "metadata": {
    "_uuid": "7e95c4946c0103225663862f43f31c41ed5aa2b1"
   },
   "outputs": [
    {
     "data": {
      "text/plain": [
       "(61, 1)"
      ]
     },
     "execution_count": 84,
     "metadata": {},
     "output_type": "execute_result"
    }
   ],
   "source": [
    "Y_pred_nn.shape"
   ]
  },
  {
   "cell_type": "code",
   "execution_count": 85,
   "metadata": {
    "_uuid": "66d9268e3f87b5a98066196eaa39363218a20015"
   },
   "outputs": [],
   "source": [
    "rounded = [round(x[0]) for x in Y_pred_nn]\n",
    "\n",
    "Y_pred_nn = rounded"
   ]
  },
  {
   "cell_type": "code",
   "execution_count": 86,
   "metadata": {
    "_uuid": "888d79632c3191c2d11c1ec3da8dc750c9d95424"
   },
   "outputs": [
    {
     "name": "stdout",
     "output_type": "stream",
     "text": [
      "The accuracy score achieved using Neural Network is: 83.61 %\n"
     ]
    }
   ],
   "source": [
    "score_nn = round(accuracy_score(Y_pred_nn,Y_test)*100,2)\n",
    "\n",
    "print(\"The accuracy score achieved using Neural Network is: \"+str(score_nn)+\" %\")\n",
    "\n",
    "#Note: Accuracy of 85% can be achieved on the test set, by setting epochs=2000, and number of nodes = 11. "
   ]
  },
  {
   "cell_type": "code",
   "execution_count": 91,
   "metadata": {},
   "outputs": [],
   "source": [
    "import pickle"
   ]
  },
  {
   "cell_type": "code",
   "execution_count": 92,
   "metadata": {},
   "outputs": [
    {
     "ename": "NameError",
     "evalue": "name 'pipeline_ls' is not defined",
     "output_type": "error",
     "traceback": [
      "\u001b[1;31m---------------------------------------------------------------------------\u001b[0m",
      "\u001b[1;31mNameError\u001b[0m                                 Traceback (most recent call last)",
      "\u001b[1;32m~\\AppData\\Local\\Temp\\ipykernel_7616\\1276810732.py\u001b[0m in \u001b[0;36m<module>\u001b[1;34m\u001b[0m\n\u001b[1;32m----> 1\u001b[1;33m \u001b[0mpickle\u001b[0m\u001b[1;33m.\u001b[0m\u001b[0mdump\u001b[0m\u001b[1;33m(\u001b[0m\u001b[0mpipeline_ls\u001b[0m\u001b[1;33m,\u001b[0m\u001b[0mopen\u001b[0m\u001b[1;33m(\u001b[0m\u001b[1;34m'heart.pkl'\u001b[0m\u001b[1;33m,\u001b[0m\u001b[1;34m'wb'\u001b[0m\u001b[1;33m)\u001b[0m\u001b[1;33m)\u001b[0m\u001b[1;33m\u001b[0m\u001b[1;33m\u001b[0m\u001b[0m\n\u001b[0m",
      "\u001b[1;31mNameError\u001b[0m: name 'pipeline_ls' is not defined"
     ]
    }
   ],
   "source": [
    "pickle.dump(pipeline_ls,open('heart.pkl','wb'))"
   ]
  },
  {
   "cell_type": "code",
   "execution_count": null,
   "metadata": {},
   "outputs": [],
   "source": [
    "loaded_model = pickle.load(open('heart.pkl', 'rb'))\n",
    "result = loaded_model.score(testX,testY)\n",
    "print(result)"
   ]
  },
  {
   "cell_type": "markdown",
   "metadata": {
    "_uuid": "c634cd922d716d350f6db0244772260cc598dec4"
   },
   "source": [
    "## VI. Output final score"
   ]
  },
  {
   "cell_type": "code",
   "execution_count": 87,
   "metadata": {
    "_uuid": "101daa51242624c49bb8b3198d9d2c9f8f1c596e"
   },
   "outputs": [
    {
     "name": "stdout",
     "output_type": "stream",
     "text": [
      "The accuracy score achieved using Logistic Regression is: 85.25 %\n",
      "The accuracy score achieved using Naive Bayes is: 85.25 %\n",
      "The accuracy score achieved using Support Vector Machine is: 81.97 %\n",
      "The accuracy score achieved using K-Nearest Neighbors is: 67.21 %\n",
      "The accuracy score achieved using Decision Tree is: 81.97 %\n",
      "The accuracy score achieved using Random Forest is: 90.16 %\n",
      "The accuracy score achieved using XGBoost is: 78.69 %\n",
      "The accuracy score achieved using Neural Network is: 83.61 %\n"
     ]
    }
   ],
   "source": [
    "scores = [score_lr,score_nb,score_svm,score_knn,score_dt,score_rf,score_xgb,score_nn]\n",
    "algorithms = [\"Logistic Regression\",\"Naive Bayes\",\"Support Vector Machine\",\"K-Nearest Neighbors\",\"Decision Tree\",\"Random Forest\",\"XGBoost\",\"Neural Network\"]    \n",
    "\n",
    "for i in range(len(algorithms)):\n",
    "    print(\"The accuracy score achieved using \"+algorithms[i]+\" is: \"+str(scores[i])+\" %\")"
   ]
  },
  {
   "cell_type": "code",
   "execution_count": 88,
   "metadata": {
    "_uuid": "8060c7d426f9f7b64772f37e0a74ededca16838d"
   },
   "outputs": [
    {
     "data": {
      "text/plain": [
       "<AxesSubplot:xlabel='Algorithms', ylabel='Accuracy score'>"
      ]
     },
     "execution_count": 88,
     "metadata": {},
     "output_type": "execute_result"
    },
    {
     "data": {
      "image/png": "[encoded data removed]",
      "text/plain": [
       "<Figure size 1500x800 with 1 Axes>"
      ]
     },
     "metadata": {},
     "output_type": "display_data"
    }
   ],
   "source": [
    "sns.set(rc={'figure.figsize':(15,8)})\n",
    "plt.xlabel(\"Algorithms\")\n",
    "plt.ylabel(\"Accuracy score\")\n",
    "\n",
    "sns.barplot(algorithms,scores)"
   ]
  },
  {
   "cell_type": "markdown",
   "metadata": {
    "_uuid": "bf9c2071e0d480ab335376d8a177914a8fdca9b7"
   },
   "source": [
    "### Hey arbaaz there random forest has good result as compare to other algorithms <br> <br>"
   ]
  },
  {
   "cell_type": "markdown",
   "metadata": {
    "_uuid": "16759e71e0db7e5458cd37a19fbf7b21c24e7301"
   },
   "source": []
  }
 ],
 "metadata": {
  "kernelspec": {
   "display_name": "Python 3",
   "language": "python",
   "name": "python3"
  },
  "language_info": {
   "codemirror_mode": {
    "name": "ipython",
    "version": 3
   },
   "file_extension": ".py",
   "mimetype": "text/x-python",
   "name": "python",
   "nbconvert_exporter": "python",
   "pygments_lexer": "ipython3",
   "version": "3.9.6"
  },
  "vscode": {
   "interpreter": {
    "hash": "c081257499a92776a7ff5343ee4d85420a7950a6ae97b0cb2aee7a7ddd41b7f2"
   }
  }
 },
 "nbformat": 4,
 "nbformat_minor": 1
}
